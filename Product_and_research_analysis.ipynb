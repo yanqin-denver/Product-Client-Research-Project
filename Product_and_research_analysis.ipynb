{
  "nbformat": 4,
  "nbformat_minor": 0,
  "metadata": {
    "colab": {
      "name": "Product and research analysis.ipynb",
      "provenance": [],
      "authorship_tag": "ABX9TyP5VA2jA9tpSbEgQEo3ZOcO",
      "include_colab_link": true
    },
    "kernelspec": {
      "name": "python3",
      "display_name": "Python 3"
    }
  },
  "cells": [
    {
      "cell_type": "markdown",
      "metadata": {
        "id": "view-in-github",
        "colab_type": "text"
      },
      "source": [
        "<a href=\"https://colab.research.google.com/github/yanqin-denver/Product-Client-Research-Project/blob/master/Product_and_research_analysis.ipynb\" target=\"_parent\"><img src=\"https://colab.research.google.com/assets/colab-badge.svg\" alt=\"Open In Colab\"/></a>"
      ]
    },
    {
      "cell_type": "markdown",
      "metadata": {
        "id": "EqIGLzZK9lOy",
        "colab_type": "text"
      },
      "source": [
        "# Load and Clean Data"
      ]
    },
    {
      "cell_type": "code",
      "metadata": {
        "id": "ZWAS52ys87qh",
        "colab_type": "code",
        "outputId": "b93d5130-7d97-40c9-87c4-741afc53e1ca",
        "colab": {
          "resources": {
            "http://localhost:8080/nbextensions/google.colab/files.js": {
              "data": "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",
              "ok": true,
              "headers": [
                [
                  "content-type",
                  "application/javascript"
                ]
              ],
              "status": 200,
              "status_text": "OK"
            }
          },
          "base_uri": "https://localhost:8080/",
          "height": 78
        }
      },
      "source": [
        "# import file\n",
        "import pandas as pd\n",
        "import numpy as np\n",
        "from google.colab import files\n",
        "uploaded = files.upload()"
      ],
      "execution_count": 0,
      "outputs": [
        {
          "output_type": "display_data",
          "data": {
            "text/html": [
              "\n",
              "     <input type=\"file\" id=\"files-3ed334a0-5627-44b8-8ef3-8da3e8347a67\" name=\"files[]\" multiple disabled />\n",
              "     <output id=\"result-3ed334a0-5627-44b8-8ef3-8da3e8347a67\">\n",
              "      Upload widget is only available when the cell has been executed in the\n",
              "      current browser session. Please rerun this cell to enable.\n",
              "      </output>\n",
              "      <script src=\"/nbextensions/google.colab/files.js\"></script> "
            ],
            "text/plain": [
              "<IPython.core.display.HTML object>"
            ]
          },
          "metadata": {
            "tags": []
          }
        },
        {
          "output_type": "stream",
          "text": [
            "Saving Product & Customer Research.xlsx to Product & Customer Research.xlsx\n"
          ],
          "name": "stdout"
        }
      ]
    },
    {
      "cell_type": "code",
      "metadata": {
        "id": "4BfkRztT9hJw",
        "colab_type": "code",
        "colab": {}
      },
      "source": [
        "import io\n",
        "df = pd.read_excel(io.BytesIO(uploaded['Product & Customer Research.xlsx']), \"Research Results\")"
      ],
      "execution_count": 0,
      "outputs": []
    },
    {
      "cell_type": "code",
      "metadata": {
        "id": "giS6wqjw9rm3",
        "colab_type": "code",
        "outputId": "5017801b-5d5c-4a6f-9f81-8aec8682a040",
        "colab": {
          "base_uri": "https://localhost:8080/",
          "height": 35
        }
      },
      "source": [
        "# get dimension of dataset\n",
        "df.shape"
      ],
      "execution_count": 0,
      "outputs": [
        {
          "output_type": "execute_result",
          "data": {
            "text/plain": [
              "(16173, 18)"
            ]
          },
          "metadata": {
            "tags": []
          },
          "execution_count": 3
        }
      ]
    },
    {
      "cell_type": "code",
      "metadata": {
        "id": "9cOFOoNK96ZX",
        "colab_type": "code",
        "outputId": "57ac5fcc-4595-45d1-fd01-35a0b7e3beaa",
        "colab": {
          "base_uri": "https://localhost:8080/",
          "height": 366
        }
      },
      "source": [
        "# return variable types\n",
        "df.dtypes"
      ],
      "execution_count": 0,
      "outputs": [
        {
          "output_type": "execute_result",
          "data": {
            "text/plain": [
              "Customer Number                                  float64\n",
              "Purchase amount during research period           float64\n",
              "Historical Sales Volume                          float64\n",
              "Date of First Purchase                    datetime64[ns]\n",
              "Number of Prior Year Transactions                float64\n",
              "External Agent                                    object\n",
              "Repurchase Method                                 object\n",
              "Last Transaction Channel                          object\n",
              "Miltefosine                                       object\n",
              "Ambisome                                          object\n",
              "Pentamidine                                       object\n",
              "benznidazole                                      object\n",
              "nifurtimox                                        object\n",
              "dapsone                                           object\n",
              "streptomycin                                      object\n",
              "Malarone                                          object\n",
              "Ribavirin                                         object\n",
              "Ship to country                                   object\n",
              "dtype: object"
            ]
          },
          "metadata": {
            "tags": []
          },
          "execution_count": 4
        }
      ]
    },
    {
      "cell_type": "markdown",
      "metadata": {
        "id": "BESBPasRVaHC",
        "colab_type": "text"
      },
      "source": [
        "remove blanks and NaNs"
      ]
    },
    {
      "cell_type": "code",
      "metadata": {
        "id": "7ngw2OUyVdun",
        "colab_type": "code",
        "colab": {}
      },
      "source": [
        "df = df.replace(r'^\\s*$', np.nan, regex=True)\n",
        "df = df.dropna()"
      ],
      "execution_count": 0,
      "outputs": []
    },
    {
      "cell_type": "code",
      "metadata": {
        "id": "cxnYXuvFFg0B",
        "colab_type": "code",
        "outputId": "8038abf6-54bd-462e-f971-f64149345cd8",
        "colab": {
          "base_uri": "https://localhost:8080/",
          "height": 35
        }
      },
      "source": [
        "df.shape[0]"
      ],
      "execution_count": 0,
      "outputs": [
        {
          "output_type": "execute_result",
          "data": {
            "text/plain": [
              "15728"
            ]
          },
          "metadata": {
            "tags": []
          },
          "execution_count": 6
        }
      ]
    },
    {
      "cell_type": "code",
      "metadata": {
        "id": "mU5qo1X_Fg8v",
        "colab_type": "code",
        "outputId": "53cfda5e-84c0-435c-8ce7-360ece71aa83",
        "colab": {
          "base_uri": "https://localhost:8080/",
          "height": 35
        }
      },
      "source": [
        "df.shape[0]/16173"
      ],
      "execution_count": 0,
      "outputs": [
        {
          "output_type": "execute_result",
          "data": {
            "text/plain": [
              "0.9724850058739876"
            ]
          },
          "metadata": {
            "tags": []
          },
          "execution_count": 7
        }
      ]
    },
    {
      "cell_type": "markdown",
      "metadata": {
        "id": "E42-rlv7Hd8H",
        "colab_type": "text"
      },
      "source": [
        "remove negative purchases and negative historical sales"
      ]
    },
    {
      "cell_type": "code",
      "metadata": {
        "id": "wZ2gpvChHIfy",
        "colab_type": "code",
        "outputId": "4c55ebff-8e98-4289-f7b2-44054815224d",
        "colab": {
          "base_uri": "https://localhost:8080/",
          "height": 300
        }
      },
      "source": [
        "df[[\"Purchase amount during research period\", \"Historical Sales Volume\"]].describe()"
      ],
      "execution_count": 0,
      "outputs": [
        {
          "output_type": "execute_result",
          "data": {
            "text/html": [
              "<div>\n",
              "<style scoped>\n",
              "    .dataframe tbody tr th:only-of-type {\n",
              "        vertical-align: middle;\n",
              "    }\n",
              "\n",
              "    .dataframe tbody tr th {\n",
              "        vertical-align: top;\n",
              "    }\n",
              "\n",
              "    .dataframe thead th {\n",
              "        text-align: right;\n",
              "    }\n",
              "</style>\n",
              "<table border=\"1\" class=\"dataframe\">\n",
              "  <thead>\n",
              "    <tr style=\"text-align: right;\">\n",
              "      <th></th>\n",
              "      <th>Purchase amount during research period</th>\n",
              "      <th>Historical Sales Volume</th>\n",
              "    </tr>\n",
              "  </thead>\n",
              "  <tbody>\n",
              "    <tr>\n",
              "      <th>count</th>\n",
              "      <td>15728.000000</td>\n",
              "      <td>1.572800e+04</td>\n",
              "    </tr>\n",
              "    <tr>\n",
              "      <th>mean</th>\n",
              "      <td>246.268734</td>\n",
              "      <td>6.730525e+05</td>\n",
              "    </tr>\n",
              "    <tr>\n",
              "      <th>std</th>\n",
              "      <td>720.511153</td>\n",
              "      <td>9.571157e+05</td>\n",
              "    </tr>\n",
              "    <tr>\n",
              "      <th>min</th>\n",
              "      <td>-566.500000</td>\n",
              "      <td>-1.643031e+05</td>\n",
              "    </tr>\n",
              "    <tr>\n",
              "      <th>25%</th>\n",
              "      <td>0.000000</td>\n",
              "      <td>1.902983e+05</td>\n",
              "    </tr>\n",
              "    <tr>\n",
              "      <th>50%</th>\n",
              "      <td>0.000000</td>\n",
              "      <td>3.970304e+05</td>\n",
              "    </tr>\n",
              "    <tr>\n",
              "      <th>75%</th>\n",
              "      <td>147.597024</td>\n",
              "      <td>7.897032e+05</td>\n",
              "    </tr>\n",
              "    <tr>\n",
              "      <th>max</th>\n",
              "      <td>8936.850000</td>\n",
              "      <td>3.441213e+07</td>\n",
              "    </tr>\n",
              "  </tbody>\n",
              "</table>\n",
              "</div>"
            ],
            "text/plain": [
              "       Purchase amount during research period  Historical Sales Volume\n",
              "count                            15728.000000             1.572800e+04\n",
              "mean                               246.268734             6.730525e+05\n",
              "std                                720.511153             9.571157e+05\n",
              "min                               -566.500000            -1.643031e+05\n",
              "25%                                  0.000000             1.902983e+05\n",
              "50%                                  0.000000             3.970304e+05\n",
              "75%                                147.597024             7.897032e+05\n",
              "max                               8936.850000             3.441213e+07"
            ]
          },
          "metadata": {
            "tags": []
          },
          "execution_count": 8
        }
      ]
    },
    {
      "cell_type": "code",
      "metadata": {
        "id": "Uc_U-JN4HjO6",
        "colab_type": "code",
        "colab": {}
      },
      "source": [
        "df = df[(df[\"Purchase amount during research period\"] >= 0) & (df[\"Historical Sales Volume\"] >= 0)]"
      ],
      "execution_count": 0,
      "outputs": []
    },
    {
      "cell_type": "code",
      "metadata": {
        "id": "qimNvuNcIe7E",
        "colab_type": "code",
        "outputId": "660f03e8-88fc-42e8-8dd0-5367f3662eba",
        "colab": {
          "base_uri": "https://localhost:8080/",
          "height": 35
        }
      },
      "source": [
        "df.shape[0]"
      ],
      "execution_count": 0,
      "outputs": [
        {
          "output_type": "execute_result",
          "data": {
            "text/plain": [
              "15718"
            ]
          },
          "metadata": {
            "tags": []
          },
          "execution_count": 10
        }
      ]
    },
    {
      "cell_type": "code",
      "metadata": {
        "id": "anntZmtQInTV",
        "colab_type": "code",
        "outputId": "00787392-e19f-483d-9bfd-e3950a95db1a",
        "colab": {
          "base_uri": "https://localhost:8080/",
          "height": 35
        }
      },
      "source": [
        "df.shape[0]/16173 # after remove NaNs and negative values, there are 975 of data left."
      ],
      "execution_count": 0,
      "outputs": [
        {
          "output_type": "execute_result",
          "data": {
            "text/plain": [
              "0.9718666913992456"
            ]
          },
          "metadata": {
            "tags": []
          },
          "execution_count": 11
        }
      ]
    },
    {
      "cell_type": "code",
      "metadata": {
        "id": "VGYdtezQ6bF7",
        "colab_type": "code",
        "colab": {}
      },
      "source": [
        "# drop ID columns \n",
        "df = df.drop([\"Customer Number\"], axis = 1) \n",
        "# drop columns of drug that cannot treat Leishmaniasis disease \n",
        "df = df.drop(['benznidazole', 'nifurtimox', 'dapsone', 'streptomycin', 'Malarone', 'Ribavirin'], axis = 1)"
      ],
      "execution_count": 0,
      "outputs": []
    },
    {
      "cell_type": "markdown",
      "metadata": {
        "id": "qq3zA576Yjld",
        "colab_type": "text"
      },
      "source": [
        "# Data Exploration"
      ]
    },
    {
      "cell_type": "markdown",
      "metadata": {
        "id": "xFxHW2ABJymw",
        "colab_type": "text"
      },
      "source": [
        "create a new variable that says the number of years of being customers"
      ]
    },
    {
      "cell_type": "code",
      "metadata": {
        "id": "Y4kCAXR8-she",
        "colab_type": "code",
        "colab": {}
      },
      "source": [
        "df['Number of Years Being Customer'] = 2019 - pd.DatetimeIndex(df['Date of First Purchase']).year"
      ],
      "execution_count": 0,
      "outputs": []
    },
    {
      "cell_type": "code",
      "metadata": {
        "id": "8SdXHJOWG4i6",
        "colab_type": "code",
        "colab": {}
      },
      "source": [
        "# drop date\n",
        "df = df.drop([\"Date of First Purchase\"], axis = 1)"
      ],
      "execution_count": 0,
      "outputs": []
    },
    {
      "cell_type": "markdown",
      "metadata": {
        "id": "HO-uGqMyI9t2",
        "colab_type": "text"
      },
      "source": [
        "description of numerical variables "
      ]
    },
    {
      "cell_type": "code",
      "metadata": {
        "id": "WN4vsEYEIs7l",
        "colab_type": "code",
        "outputId": "37218a31-462d-4d09-c2e1-d48b0354c5d1",
        "colab": {
          "base_uri": "https://localhost:8080/",
          "height": 300
        }
      },
      "source": [
        "numVar_list = [\"Purchase amount during research period\", \"Historical Sales Volume\", \"Number of Prior Year Transactions\", \"Number of Years Being Customer\"]\n",
        "df[numVar_list].describe()"
      ],
      "execution_count": 0,
      "outputs": [
        {
          "output_type": "execute_result",
          "data": {
            "text/html": [
              "<div>\n",
              "<style scoped>\n",
              "    .dataframe tbody tr th:only-of-type {\n",
              "        vertical-align: middle;\n",
              "    }\n",
              "\n",
              "    .dataframe tbody tr th {\n",
              "        vertical-align: top;\n",
              "    }\n",
              "\n",
              "    .dataframe thead th {\n",
              "        text-align: right;\n",
              "    }\n",
              "</style>\n",
              "<table border=\"1\" class=\"dataframe\">\n",
              "  <thead>\n",
              "    <tr style=\"text-align: right;\">\n",
              "      <th></th>\n",
              "      <th>Purchase amount during research period</th>\n",
              "      <th>Historical Sales Volume</th>\n",
              "      <th>Number of Prior Year Transactions</th>\n",
              "      <th>Number of Years Being Customer</th>\n",
              "    </tr>\n",
              "  </thead>\n",
              "  <tbody>\n",
              "    <tr>\n",
              "      <th>count</th>\n",
              "      <td>15718.000000</td>\n",
              "      <td>1.571800e+04</td>\n",
              "      <td>15718.000000</td>\n",
              "      <td>15718.000000</td>\n",
              "    </tr>\n",
              "    <tr>\n",
              "      <th>mean</th>\n",
              "      <td>246.516017</td>\n",
              "      <td>6.734576e+05</td>\n",
              "      <td>14.518068</td>\n",
              "      <td>26.286996</td>\n",
              "    </tr>\n",
              "    <tr>\n",
              "      <th>std</th>\n",
              "      <td>720.657873</td>\n",
              "      <td>9.572757e+05</td>\n",
              "      <td>8.027559</td>\n",
              "      <td>10.915952</td>\n",
              "    </tr>\n",
              "    <tr>\n",
              "      <th>min</th>\n",
              "      <td>0.000000</td>\n",
              "      <td>1.319314e+03</td>\n",
              "      <td>1.000000</td>\n",
              "      <td>1.000000</td>\n",
              "    </tr>\n",
              "    <tr>\n",
              "      <th>25%</th>\n",
              "      <td>0.000000</td>\n",
              "      <td>1.905548e+05</td>\n",
              "      <td>8.000000</td>\n",
              "      <td>22.000000</td>\n",
              "    </tr>\n",
              "    <tr>\n",
              "      <th>50%</th>\n",
              "      <td>0.000000</td>\n",
              "      <td>3.973795e+05</td>\n",
              "      <td>16.000000</td>\n",
              "      <td>26.000000</td>\n",
              "    </tr>\n",
              "    <tr>\n",
              "      <th>75%</th>\n",
              "      <td>147.671429</td>\n",
              "      <td>7.900409e+05</td>\n",
              "      <td>20.000000</td>\n",
              "      <td>32.000000</td>\n",
              "    </tr>\n",
              "    <tr>\n",
              "      <th>max</th>\n",
              "      <td>8936.850000</td>\n",
              "      <td>3.441213e+07</td>\n",
              "      <td>313.000000</td>\n",
              "      <td>93.000000</td>\n",
              "    </tr>\n",
              "  </tbody>\n",
              "</table>\n",
              "</div>"
            ],
            "text/plain": [
              "       Purchase amount during research period  ...  Number of Years Being Customer\n",
              "count                            15718.000000  ...                    15718.000000\n",
              "mean                               246.516017  ...                       26.286996\n",
              "std                                720.657873  ...                       10.915952\n",
              "min                                  0.000000  ...                        1.000000\n",
              "25%                                  0.000000  ...                       22.000000\n",
              "50%                                  0.000000  ...                       26.000000\n",
              "75%                                147.671429  ...                       32.000000\n",
              "max                               8936.850000  ...                       93.000000\n",
              "\n",
              "[8 rows x 4 columns]"
            ]
          },
          "metadata": {
            "tags": []
          },
          "execution_count": 15
        }
      ]
    },
    {
      "cell_type": "markdown",
      "metadata": {
        "id": "riwWuTVUPtgr",
        "colab_type": "text"
      },
      "source": [
        "create predict variable called purchase, from purchase amount during research period. \n",
        "if purchase amount during research period is greater than 0, purchase equals to '1', otherwise it is '0'."
      ]
    },
    {
      "cell_type": "code",
      "metadata": {
        "id": "Arc6J0qOPr1w",
        "colab_type": "code",
        "colab": {}
      },
      "source": [
        "df[\"Purchase\"] = [0] * df.shape[0]\n",
        "df.loc[(df[\"Purchase amount during research period\"] > 0), \"Purchase\"] = 1"
      ],
      "execution_count": 0,
      "outputs": []
    },
    {
      "cell_type": "markdown",
      "metadata": {
        "id": "dtRnaOAsLZiE",
        "colab_type": "text"
      },
      "source": [
        "description of categorical variables"
      ]
    },
    {
      "cell_type": "code",
      "metadata": {
        "id": "jnTjQg8bJl4w",
        "colab_type": "code",
        "outputId": "da49d91a-97b9-4f65-afa2-5ef75ac030ff",
        "colab": {
          "base_uri": "https://localhost:8080/",
          "height": 917
        }
      },
      "source": [
        "catVar_list = [\"External Agent\", 'Repurchase Method', 'Last Transaction Channel', 'Miltefosine', 'Ambisome', 'Pentamidine', 'Ship to country']\n",
        "for cat in catVar_list:\n",
        "  print(df[cat].unique())\n",
        "  print(df[cat].describe())\n",
        "# majority of the data is not assigned external agent, with notice as repurchase method, with mail as last transaction channel, no prior purchase for each drug except for Ribavirin."
      ],
      "execution_count": 0,
      "outputs": [
        {
          "output_type": "stream",
          "text": [
            "['Not assigned' 'Assigned']\n",
            "count            15718\n",
            "unique               2\n",
            "top       Not assigned\n",
            "freq              9995\n",
            "Name: External Agent, dtype: object\n",
            "['AUTO RENEW' 'NOTICE']\n",
            "count      15718\n",
            "unique         2\n",
            "top       NOTICE\n",
            "freq       11538\n",
            "Name: Repurchase Method, dtype: object\n",
            "['AUTO RENEW' 'MAIL' 'PHONE' 'BRANCH (PHONE)' 'WEB' 'BRANCH (POS)' 'IT'\n",
            " 'BILLING']\n",
            "count     15718\n",
            "unique        8\n",
            "top        MAIL\n",
            "freq       7764\n",
            "Name: Last Transaction Channel, dtype: object\n",
            "['N' 'Y']\n",
            "count     15718\n",
            "unique        2\n",
            "top           N\n",
            "freq       9053\n",
            "Name: Miltefosine, dtype: object\n",
            "['N' 'Y']\n",
            "count     15718\n",
            "unique        2\n",
            "top           N\n",
            "freq       8902\n",
            "Name: Ambisome, dtype: object\n",
            "['N' 'Y']\n",
            "count     15718\n",
            "unique        2\n",
            "top           N\n",
            "freq       9633\n",
            "Name: Pentamidine, dtype: object\n",
            "['Mexico' 'Thailand' 'Japan' 'Australia' 'Singapore' 'Egypt' 'India'\n",
            " 'South Africa' 'Nepal' 'Utd.Arab Emir.' 'Cambodia' 'Malaysia'\n",
            " 'Netherlands' 'South Korea' 'Philippines' 'Yemen' 'Indonesia' 'Nigeria'\n",
            " 'China' 'Lebanon' 'Kenya' 'Sri Lanka' 'Bangladesh' 'Pakistan' 'Hong Kong'\n",
            " 'Saudi Arabia' 'Oman' 'Germany' 'Ethiopia' 'Sudan' 'France' 'Iran'\n",
            " 'Vietnam' 'USA' 'Argentina' 'Spain' 'United Kingdom' 'Jordan' 'Laos'\n",
            " 'Tunisia' 'Taiwan' 'Slovenia' 'Algeria' 'Turkey' 'Canada']\n",
            "count     15718\n",
            "unique       45\n",
            "top       India\n",
            "freq       8393\n",
            "Name: Ship to country, dtype: object\n"
          ],
          "name": "stdout"
        }
      ]
    },
    {
      "cell_type": "markdown",
      "metadata": {
        "id": "qaqpnx4FZCZ0",
        "colab_type": "text"
      },
      "source": [
        "plots"
      ]
    },
    {
      "cell_type": "code",
      "metadata": {
        "id": "m24BGthvZEoR",
        "colab_type": "code",
        "colab": {}
      },
      "source": [
        "import matplotlib.pyplot as plt \n",
        "plt.rc(\"font\", size=14)\n",
        "import seaborn as sns\n",
        "sns.set(style=\"white\")\n",
        "sns.set(style=\"whitegrid\", color_codes=True)"
      ],
      "execution_count": 0,
      "outputs": []
    },
    {
      "cell_type": "code",
      "metadata": {
        "id": "K_rx_q8VZgZh",
        "colab_type": "code",
        "outputId": "47b92aaf-fc65-4954-da3b-a0317d762c4e",
        "colab": {
          "base_uri": "https://localhost:8080/",
          "height": 307
        }
      },
      "source": [
        "sns.countplot(x = 'Purchase', data = df, palette = 'hls')\n",
        "plt.show()\n",
        "plt.savefig('ccount_plot')"
      ],
      "execution_count": 0,
      "outputs": [
        {
          "output_type": "display_data",
          "data": {
            "image/png": "[encoded data removed]",
            "text/plain": [
              "<Figure size 432x288 with 1 Axes>"
            ]
          },
          "metadata": {
            "tags": []
          }
        },
        {
          "output_type": "display_data",
          "data": {
            "text/plain": [
              "<Figure size 432x288 with 0 Axes>"
            ]
          },
          "metadata": {
            "tags": []
          }
        }
      ]
    },
    {
      "cell_type": "code",
      "metadata": {
        "id": "ui5tPI_1aY44",
        "colab_type": "code",
        "outputId": "049116fd-7792-4d0f-93df-ee05bdd32c6f",
        "colab": {
          "base_uri": "https://localhost:8080/",
          "height": 54
        }
      },
      "source": [
        "count_no_purcahse = len(df[df['Purchase']== 0])\n",
        "count_purcahse = len(df) - count_no_purcahse\n",
        "pct_of_no_purcahse = count_no_purcahse/(count_no_purcahse + count_purcahse)\n",
        "print(\"percentage of no purchase is\", pct_of_no_purcahse*100)\n",
        "pct_of_purchase = count_purcahse/(count_no_purcahse + count_purcahse)\n",
        "print(\"percentage of purcahse\", pct_of_purchase*100)"
      ],
      "execution_count": 0,
      "outputs": [
        {
          "output_type": "stream",
          "text": [
            "percentage of no purchase is 72.79552105865886\n",
            "percentage of purcahse 27.204478941341137\n"
          ],
          "name": "stdout"
        }
      ]
    },
    {
      "cell_type": "markdown",
      "metadata": {
        "id": "XgUrHsUg2Q_R",
        "colab_type": "text"
      },
      "source": [
        "group by predict variable"
      ]
    },
    {
      "cell_type": "code",
      "metadata": {
        "id": "m5APQjT2bsIz",
        "colab_type": "code",
        "outputId": "1385409d-f7ae-45b8-f3c5-ef89acb139a5",
        "colab": {
          "base_uri": "https://localhost:8080/",
          "height": 143
        }
      },
      "source": [
        "df.groupby('Purchase').mean()"
      ],
      "execution_count": 0,
      "outputs": [
        {
          "output_type": "execute_result",
          "data": {
            "text/html": [
              "<div>\n",
              "<style scoped>\n",
              "    .dataframe tbody tr th:only-of-type {\n",
              "        vertical-align: middle;\n",
              "    }\n",
              "\n",
              "    .dataframe tbody tr th {\n",
              "        vertical-align: top;\n",
              "    }\n",
              "\n",
              "    .dataframe thead th {\n",
              "        text-align: right;\n",
              "    }\n",
              "</style>\n",
              "<table border=\"1\" class=\"dataframe\">\n",
              "  <thead>\n",
              "    <tr style=\"text-align: right;\">\n",
              "      <th></th>\n",
              "      <th>Purchase amount during research period</th>\n",
              "      <th>Historical Sales Volume</th>\n",
              "      <th>Number of Prior Year Transactions</th>\n",
              "      <th>Number of Years Being Customer</th>\n",
              "    </tr>\n",
              "    <tr>\n",
              "      <th>Purchase</th>\n",
              "      <th></th>\n",
              "      <th></th>\n",
              "      <th></th>\n",
              "      <th></th>\n",
              "    </tr>\n",
              "  </thead>\n",
              "  <tbody>\n",
              "    <tr>\n",
              "      <th>0</th>\n",
              "      <td>0.000000</td>\n",
              "      <td>693272.347077</td>\n",
              "      <td>13.836043</td>\n",
              "      <td>24.378081</td>\n",
              "    </tr>\n",
              "    <tr>\n",
              "      <th>1</th>\n",
              "      <td>906.159672</td>\n",
              "      <td>620436.114651</td>\n",
              "      <td>16.343078</td>\n",
              "      <td>31.394995</td>\n",
              "    </tr>\n",
              "  </tbody>\n",
              "</table>\n",
              "</div>"
            ],
            "text/plain": [
              "          Purchase amount during research period  ...  Number of Years Being Customer\n",
              "Purchase                                          ...                                \n",
              "0                                       0.000000  ...                       24.378081\n",
              "1                                     906.159672  ...                       31.394995\n",
              "\n",
              "[2 rows x 4 columns]"
            ]
          },
          "metadata": {
            "tags": []
          },
          "execution_count": 21
        }
      ]
    },
    {
      "cell_type": "markdown",
      "metadata": {
        "id": "DzNLqPeJb_4o",
        "colab_type": "text"
      },
      "source": [
        "Observations\n",
        "1. The average number of purchase amount for clients who purchased drugs during the research period is $ 906.\n",
        "2. The average Historical Sales Volume from the clients who purchased drugs during the research period is lower than that from the clients who didn't. (but no big difference; class is imbalanced, not enough clients from purchased group.)\n",
        "3. The average number of prior year transactions DNDi had with the clients who purchased drugs during the research period is higher than that from the clients who didn't.\n",
        "4. Clients who purchased drugs during the research period has longer years of being customers with DNDi than clients who didn't."
      ]
    },
    {
      "cell_type": "markdown",
      "metadata": {
        "id": "uzrnUtYp2Ztm",
        "colab_type": "text"
      },
      "source": [
        "group by categorical variables"
      ]
    },
    {
      "cell_type": "code",
      "metadata": {
        "id": "uIaq5LI22PLq",
        "colab_type": "code",
        "outputId": "ad4ed18a-8d34-4fa5-f249-eed05a56acc5",
        "colab": {
          "base_uri": "https://localhost:8080/",
          "height": 178
        }
      },
      "source": [
        "df.groupby('External Agent').mean()"
      ],
      "execution_count": 0,
      "outputs": [
        {
          "output_type": "execute_result",
          "data": {
            "text/html": [
              "<div>\n",
              "<style scoped>\n",
              "    .dataframe tbody tr th:only-of-type {\n",
              "        vertical-align: middle;\n",
              "    }\n",
              "\n",
              "    .dataframe tbody tr th {\n",
              "        vertical-align: top;\n",
              "    }\n",
              "\n",
              "    .dataframe thead th {\n",
              "        text-align: right;\n",
              "    }\n",
              "</style>\n",
              "<table border=\"1\" class=\"dataframe\">\n",
              "  <thead>\n",
              "    <tr style=\"text-align: right;\">\n",
              "      <th></th>\n",
              "      <th>Purchase amount during research period</th>\n",
              "      <th>Historical Sales Volume</th>\n",
              "      <th>Number of Prior Year Transactions</th>\n",
              "      <th>Number of Years Being Customer</th>\n",
              "      <th>Purchase</th>\n",
              "    </tr>\n",
              "    <tr>\n",
              "      <th>External Agent</th>\n",
              "      <th></th>\n",
              "      <th></th>\n",
              "      <th></th>\n",
              "      <th></th>\n",
              "      <th></th>\n",
              "    </tr>\n",
              "  </thead>\n",
              "  <tbody>\n",
              "    <tr>\n",
              "      <th>Assigned</th>\n",
              "      <td>241.405949</td>\n",
              "      <td>668323.189914</td>\n",
              "      <td>14.552857</td>\n",
              "      <td>26.359951</td>\n",
              "      <td>0.268740</td>\n",
              "    </tr>\n",
              "    <tr>\n",
              "      <th>Not assigned</th>\n",
              "      <td>249.441972</td>\n",
              "      <td>676397.539332</td>\n",
              "      <td>14.498149</td>\n",
              "      <td>26.245223</td>\n",
              "      <td>0.273937</td>\n",
              "    </tr>\n",
              "  </tbody>\n",
              "</table>\n",
              "</div>"
            ],
            "text/plain": [
              "                Purchase amount during research period  ...  Purchase\n",
              "External Agent                                          ...          \n",
              "Assigned                                    241.405949  ...  0.268740\n",
              "Not assigned                                249.441972  ...  0.273937\n",
              "\n",
              "[2 rows x 5 columns]"
            ]
          },
          "metadata": {
            "tags": []
          },
          "execution_count": 22
        }
      ]
    },
    {
      "cell_type": "code",
      "metadata": {
        "id": "VhAbdhWL4uPN",
        "colab_type": "code",
        "outputId": "b0a96a65-ff01-4933-bcb6-663b8cc0674b",
        "colab": {
          "base_uri": "https://localhost:8080/",
          "height": 178
        }
      },
      "source": [
        "df.groupby('Repurchase Method').mean()"
      ],
      "execution_count": 0,
      "outputs": [
        {
          "output_type": "execute_result",
          "data": {
            "text/html": [
              "<div>\n",
              "<style scoped>\n",
              "    .dataframe tbody tr th:only-of-type {\n",
              "        vertical-align: middle;\n",
              "    }\n",
              "\n",
              "    .dataframe tbody tr th {\n",
              "        vertical-align: top;\n",
              "    }\n",
              "\n",
              "    .dataframe thead th {\n",
              "        text-align: right;\n",
              "    }\n",
              "</style>\n",
              "<table border=\"1\" class=\"dataframe\">\n",
              "  <thead>\n",
              "    <tr style=\"text-align: right;\">\n",
              "      <th></th>\n",
              "      <th>Purchase amount during research period</th>\n",
              "      <th>Historical Sales Volume</th>\n",
              "      <th>Number of Prior Year Transactions</th>\n",
              "      <th>Number of Years Being Customer</th>\n",
              "      <th>Purchase</th>\n",
              "    </tr>\n",
              "    <tr>\n",
              "      <th>Repurchase Method</th>\n",
              "      <th></th>\n",
              "      <th></th>\n",
              "      <th></th>\n",
              "      <th></th>\n",
              "      <th></th>\n",
              "    </tr>\n",
              "  </thead>\n",
              "  <tbody>\n",
              "    <tr>\n",
              "      <th>AUTO RENEW</th>\n",
              "      <td>438.726896</td>\n",
              "      <td>879620.998398</td>\n",
              "      <td>14.585885</td>\n",
              "      <td>25.079665</td>\n",
              "      <td>0.306699</td>\n",
              "    </tr>\n",
              "    <tr>\n",
              "      <th>NOTICE</th>\n",
              "      <td>176.881637</td>\n",
              "      <td>598768.525585</td>\n",
              "      <td>14.493500</td>\n",
              "      <td>26.724389</td>\n",
              "      <td>0.259490</td>\n",
              "    </tr>\n",
              "  </tbody>\n",
              "</table>\n",
              "</div>"
            ],
            "text/plain": [
              "                   Purchase amount during research period  ...  Purchase\n",
              "Repurchase Method                                          ...          \n",
              "AUTO RENEW                                     438.726896  ...  0.306699\n",
              "NOTICE                                         176.881637  ...  0.259490\n",
              "\n",
              "[2 rows x 5 columns]"
            ]
          },
          "metadata": {
            "tags": []
          },
          "execution_count": 23
        }
      ]
    },
    {
      "cell_type": "code",
      "metadata": {
        "id": "TZ9-2G8K5N8g",
        "colab_type": "code",
        "outputId": "9f54cfe3-1ebb-4add-80c5-aeefe9dc6fea",
        "colab": {
          "base_uri": "https://localhost:8080/",
          "height": 366
        }
      },
      "source": [
        "df.groupby('Last Transaction Channel').mean()"
      ],
      "execution_count": 0,
      "outputs": [
        {
          "output_type": "execute_result",
          "data": {
            "text/html": [
              "<div>\n",
              "<style scoped>\n",
              "    .dataframe tbody tr th:only-of-type {\n",
              "        vertical-align: middle;\n",
              "    }\n",
              "\n",
              "    .dataframe tbody tr th {\n",
              "        vertical-align: top;\n",
              "    }\n",
              "\n",
              "    .dataframe thead th {\n",
              "        text-align: right;\n",
              "    }\n",
              "</style>\n",
              "<table border=\"1\" class=\"dataframe\">\n",
              "  <thead>\n",
              "    <tr style=\"text-align: right;\">\n",
              "      <th></th>\n",
              "      <th>Purchase amount during research period</th>\n",
              "      <th>Historical Sales Volume</th>\n",
              "      <th>Number of Prior Year Transactions</th>\n",
              "      <th>Number of Years Being Customer</th>\n",
              "      <th>Purchase</th>\n",
              "    </tr>\n",
              "    <tr>\n",
              "      <th>Last Transaction Channel</th>\n",
              "      <th></th>\n",
              "      <th></th>\n",
              "      <th></th>\n",
              "      <th></th>\n",
              "      <th></th>\n",
              "    </tr>\n",
              "  </thead>\n",
              "  <tbody>\n",
              "    <tr>\n",
              "      <th>AUTO RENEW</th>\n",
              "      <td>401.528773</td>\n",
              "      <td>8.494521e+05</td>\n",
              "      <td>14.634830</td>\n",
              "      <td>25.574021</td>\n",
              "      <td>0.298313</td>\n",
              "    </tr>\n",
              "    <tr>\n",
              "      <th>BILLING</th>\n",
              "      <td>417.794633</td>\n",
              "      <td>1.149326e+06</td>\n",
              "      <td>16.647059</td>\n",
              "      <td>27.941176</td>\n",
              "      <td>0.411765</td>\n",
              "    </tr>\n",
              "    <tr>\n",
              "      <th>BRANCH (PHONE)</th>\n",
              "      <td>260.658675</td>\n",
              "      <td>6.407499e+05</td>\n",
              "      <td>14.021898</td>\n",
              "      <td>22.238443</td>\n",
              "      <td>0.301703</td>\n",
              "    </tr>\n",
              "    <tr>\n",
              "      <th>BRANCH (POS)</th>\n",
              "      <td>152.738375</td>\n",
              "      <td>5.061697e+05</td>\n",
              "      <td>14.774092</td>\n",
              "      <td>23.829384</td>\n",
              "      <td>0.270142</td>\n",
              "    </tr>\n",
              "    <tr>\n",
              "      <th>IT</th>\n",
              "      <td>667.324150</td>\n",
              "      <td>9.764568e+05</td>\n",
              "      <td>15.571429</td>\n",
              "      <td>31.000000</td>\n",
              "      <td>0.500000</td>\n",
              "    </tr>\n",
              "    <tr>\n",
              "      <th>MAIL</th>\n",
              "      <td>165.704788</td>\n",
              "      <td>5.956824e+05</td>\n",
              "      <td>14.585008</td>\n",
              "      <td>28.014812</td>\n",
              "      <td>0.263009</td>\n",
              "    </tr>\n",
              "    <tr>\n",
              "      <th>PHONE</th>\n",
              "      <td>294.103989</td>\n",
              "      <td>7.430263e+05</td>\n",
              "      <td>13.991781</td>\n",
              "      <td>21.468493</td>\n",
              "      <td>0.248402</td>\n",
              "    </tr>\n",
              "    <tr>\n",
              "      <th>WEB</th>\n",
              "      <td>296.898178</td>\n",
              "      <td>7.044356e+05</td>\n",
              "      <td>14.397276</td>\n",
              "      <td>25.237609</td>\n",
              "      <td>0.270904</td>\n",
              "    </tr>\n",
              "  </tbody>\n",
              "</table>\n",
              "</div>"
            ],
            "text/plain": [
              "                          Purchase amount during research period  ...  Purchase\n",
              "Last Transaction Channel                                          ...          \n",
              "AUTO RENEW                                            401.528773  ...  0.298313\n",
              "BILLING                                               417.794633  ...  0.411765\n",
              "BRANCH (PHONE)                                        260.658675  ...  0.301703\n",
              "BRANCH (POS)                                          152.738375  ...  0.270142\n",
              "IT                                                    667.324150  ...  0.500000\n",
              "MAIL                                                  165.704788  ...  0.263009\n",
              "PHONE                                                 294.103989  ...  0.248402\n",
              "WEB                                                   296.898178  ...  0.270904\n",
              "\n",
              "[8 rows x 5 columns]"
            ]
          },
          "metadata": {
            "tags": []
          },
          "execution_count": 24
        }
      ]
    },
    {
      "cell_type": "code",
      "metadata": {
        "id": "0BfJpqNY8R9y",
        "colab_type": "code",
        "outputId": "eade7ba4-dc81-4425-aaf0-27bd0e864bb3",
        "colab": {
          "base_uri": "https://localhost:8080/",
          "height": 143
        }
      },
      "source": [
        "df.groupby('Miltefosine').mean()"
      ],
      "execution_count": 0,
      "outputs": [
        {
          "output_type": "execute_result",
          "data": {
            "text/html": [
              "<div>\n",
              "<style scoped>\n",
              "    .dataframe tbody tr th:only-of-type {\n",
              "        vertical-align: middle;\n",
              "    }\n",
              "\n",
              "    .dataframe tbody tr th {\n",
              "        vertical-align: top;\n",
              "    }\n",
              "\n",
              "    .dataframe thead th {\n",
              "        text-align: right;\n",
              "    }\n",
              "</style>\n",
              "<table border=\"1\" class=\"dataframe\">\n",
              "  <thead>\n",
              "    <tr style=\"text-align: right;\">\n",
              "      <th></th>\n",
              "      <th>Purchase amount during research period</th>\n",
              "      <th>Historical Sales Volume</th>\n",
              "      <th>Number of Prior Year Transactions</th>\n",
              "      <th>Number of Years Being Customer</th>\n",
              "      <th>Purchase</th>\n",
              "    </tr>\n",
              "    <tr>\n",
              "      <th>Miltefosine</th>\n",
              "      <th></th>\n",
              "      <th></th>\n",
              "      <th></th>\n",
              "      <th></th>\n",
              "      <th></th>\n",
              "    </tr>\n",
              "  </thead>\n",
              "  <tbody>\n",
              "    <tr>\n",
              "      <th>N</th>\n",
              "      <td>222.032521</td>\n",
              "      <td>656183.926225</td>\n",
              "      <td>14.480835</td>\n",
              "      <td>26.440517</td>\n",
              "      <td>0.267315</td>\n",
              "    </tr>\n",
              "    <tr>\n",
              "      <th>Y</th>\n",
              "      <td>279.771694</td>\n",
              "      <td>696920.320688</td>\n",
              "      <td>14.568642</td>\n",
              "      <td>26.078470</td>\n",
              "      <td>0.278470</td>\n",
              "    </tr>\n",
              "  </tbody>\n",
              "</table>\n",
              "</div>"
            ],
            "text/plain": [
              "             Purchase amount during research period  ...  Purchase\n",
              "Miltefosine                                          ...          \n",
              "N                                        222.032521  ...  0.267315\n",
              "Y                                        279.771694  ...  0.278470\n",
              "\n",
              "[2 rows x 5 columns]"
            ]
          },
          "metadata": {
            "tags": []
          },
          "execution_count": 25
        }
      ]
    },
    {
      "cell_type": "code",
      "metadata": {
        "id": "3fGdVlh4-LLK",
        "colab_type": "code",
        "outputId": "84ca91ac-3a37-4c6d-c2df-296e8af4b20a",
        "colab": {
          "base_uri": "https://localhost:8080/",
          "height": 143
        }
      },
      "source": [
        "df.groupby(\"Ambisome\").mean()"
      ],
      "execution_count": 0,
      "outputs": [
        {
          "output_type": "execute_result",
          "data": {
            "text/html": [
              "<div>\n",
              "<style scoped>\n",
              "    .dataframe tbody tr th:only-of-type {\n",
              "        vertical-align: middle;\n",
              "    }\n",
              "\n",
              "    .dataframe tbody tr th {\n",
              "        vertical-align: top;\n",
              "    }\n",
              "\n",
              "    .dataframe thead th {\n",
              "        text-align: right;\n",
              "    }\n",
              "</style>\n",
              "<table border=\"1\" class=\"dataframe\">\n",
              "  <thead>\n",
              "    <tr style=\"text-align: right;\">\n",
              "      <th></th>\n",
              "      <th>Purchase amount during research period</th>\n",
              "      <th>Historical Sales Volume</th>\n",
              "      <th>Number of Prior Year Transactions</th>\n",
              "      <th>Number of Years Being Customer</th>\n",
              "      <th>Purchase</th>\n",
              "    </tr>\n",
              "    <tr>\n",
              "      <th>Ambisome</th>\n",
              "      <th></th>\n",
              "      <th></th>\n",
              "      <th></th>\n",
              "      <th></th>\n",
              "      <th></th>\n",
              "    </tr>\n",
              "  </thead>\n",
              "  <tbody>\n",
              "    <tr>\n",
              "      <th>N</th>\n",
              "      <td>211.572518</td>\n",
              "      <td>641905.776077</td>\n",
              "      <td>14.394518</td>\n",
              "      <td>26.078859</td>\n",
              "      <td>0.261851</td>\n",
              "    </tr>\n",
              "    <tr>\n",
              "      <th>Y</th>\n",
              "      <td>292.153785</td>\n",
              "      <td>714665.757462</td>\n",
              "      <td>14.679431</td>\n",
              "      <td>26.558832</td>\n",
              "      <td>0.285358</td>\n",
              "    </tr>\n",
              "  </tbody>\n",
              "</table>\n",
              "</div>"
            ],
            "text/plain": [
              "          Purchase amount during research period  ...  Purchase\n",
              "Ambisome                                          ...          \n",
              "N                                     211.572518  ...  0.261851\n",
              "Y                                     292.153785  ...  0.285358\n",
              "\n",
              "[2 rows x 5 columns]"
            ]
          },
          "metadata": {
            "tags": []
          },
          "execution_count": 26
        }
      ]
    },
    {
      "cell_type": "code",
      "metadata": {
        "id": "McVnP2By-VDz",
        "colab_type": "code",
        "outputId": "b4d5993e-d335-4342-9ef2-7dd2dd0f971e",
        "colab": {
          "base_uri": "https://localhost:8080/",
          "height": 143
        }
      },
      "source": [
        "df.groupby(\"Pentamidine\").mean()"
      ],
      "execution_count": 0,
      "outputs": [
        {
          "output_type": "execute_result",
          "data": {
            "text/html": [
              "<div>\n",
              "<style scoped>\n",
              "    .dataframe tbody tr th:only-of-type {\n",
              "        vertical-align: middle;\n",
              "    }\n",
              "\n",
              "    .dataframe tbody tr th {\n",
              "        vertical-align: top;\n",
              "    }\n",
              "\n",
              "    .dataframe thead th {\n",
              "        text-align: right;\n",
              "    }\n",
              "</style>\n",
              "<table border=\"1\" class=\"dataframe\">\n",
              "  <thead>\n",
              "    <tr style=\"text-align: right;\">\n",
              "      <th></th>\n",
              "      <th>Purchase amount during research period</th>\n",
              "      <th>Historical Sales Volume</th>\n",
              "      <th>Number of Prior Year Transactions</th>\n",
              "      <th>Number of Years Being Customer</th>\n",
              "      <th>Purchase</th>\n",
              "    </tr>\n",
              "    <tr>\n",
              "      <th>Pentamidine</th>\n",
              "      <th></th>\n",
              "      <th></th>\n",
              "      <th></th>\n",
              "      <th></th>\n",
              "      <th></th>\n",
              "    </tr>\n",
              "  </thead>\n",
              "  <tbody>\n",
              "    <tr>\n",
              "      <th>N</th>\n",
              "      <td>208.528835</td>\n",
              "      <td>654827.432374</td>\n",
              "      <td>14.448977</td>\n",
              "      <td>26.322122</td>\n",
              "      <td>0.261186</td>\n",
              "    </tr>\n",
              "    <tr>\n",
              "      <th>Y</th>\n",
              "      <td>306.652504</td>\n",
              "      <td>702950.594157</td>\n",
              "      <td>14.627445</td>\n",
              "      <td>26.231389</td>\n",
              "      <td>0.289236</td>\n",
              "    </tr>\n",
              "  </tbody>\n",
              "</table>\n",
              "</div>"
            ],
            "text/plain": [
              "             Purchase amount during research period  ...  Purchase\n",
              "Pentamidine                                          ...          \n",
              "N                                        208.528835  ...  0.261186\n",
              "Y                                        306.652504  ...  0.289236\n",
              "\n",
              "[2 rows x 5 columns]"
            ]
          },
          "metadata": {
            "tags": []
          },
          "execution_count": 27
        }
      ]
    },
    {
      "cell_type": "code",
      "metadata": {
        "id": "fq99_yhT5asJ",
        "colab_type": "code",
        "outputId": "38b5ddf3-18b6-49da-e6da-a693f97b3487",
        "colab": {
          "base_uri": "https://localhost:8080/",
          "height": 1000
        }
      },
      "source": [
        "df.groupby('Ship to country').mean()"
      ],
      "execution_count": 0,
      "outputs": [
        {
          "output_type": "execute_result",
          "data": {
            "text/html": [
              "<div>\n",
              "<style scoped>\n",
              "    .dataframe tbody tr th:only-of-type {\n",
              "        vertical-align: middle;\n",
              "    }\n",
              "\n",
              "    .dataframe tbody tr th {\n",
              "        vertical-align: top;\n",
              "    }\n",
              "\n",
              "    .dataframe thead th {\n",
              "        text-align: right;\n",
              "    }\n",
              "</style>\n",
              "<table border=\"1\" class=\"dataframe\">\n",
              "  <thead>\n",
              "    <tr style=\"text-align: right;\">\n",
              "      <th></th>\n",
              "      <th>Purchase amount during research period</th>\n",
              "      <th>Historical Sales Volume</th>\n",
              "      <th>Number of Prior Year Transactions</th>\n",
              "      <th>Number of Years Being Customer</th>\n",
              "      <th>Purchase</th>\n",
              "    </tr>\n",
              "    <tr>\n",
              "      <th>Ship to country</th>\n",
              "      <th></th>\n",
              "      <th></th>\n",
              "      <th></th>\n",
              "      <th></th>\n",
              "      <th></th>\n",
              "    </tr>\n",
              "  </thead>\n",
              "  <tbody>\n",
              "    <tr>\n",
              "      <th>Algeria</th>\n",
              "      <td>683.431492</td>\n",
              "      <td>5.471825e+05</td>\n",
              "      <td>17.111111</td>\n",
              "      <td>20.555556</td>\n",
              "      <td>0.555556</td>\n",
              "    </tr>\n",
              "    <tr>\n",
              "      <th>Argentina</th>\n",
              "      <td>38.553718</td>\n",
              "      <td>4.770493e+05</td>\n",
              "      <td>11.923077</td>\n",
              "      <td>26.307692</td>\n",
              "      <td>0.153846</td>\n",
              "    </tr>\n",
              "    <tr>\n",
              "      <th>Australia</th>\n",
              "      <td>181.111830</td>\n",
              "      <td>9.529825e+05</td>\n",
              "      <td>14.368421</td>\n",
              "      <td>26.236842</td>\n",
              "      <td>0.184211</td>\n",
              "    </tr>\n",
              "    <tr>\n",
              "      <th>Bangladesh</th>\n",
              "      <td>272.455006</td>\n",
              "      <td>7.353500e+05</td>\n",
              "      <td>14.439024</td>\n",
              "      <td>26.182927</td>\n",
              "      <td>0.268293</td>\n",
              "    </tr>\n",
              "    <tr>\n",
              "      <th>Cambodia</th>\n",
              "      <td>174.368108</td>\n",
              "      <td>5.604881e+05</td>\n",
              "      <td>12.841584</td>\n",
              "      <td>26.257426</td>\n",
              "      <td>0.188119</td>\n",
              "    </tr>\n",
              "    <tr>\n",
              "      <th>Canada</th>\n",
              "      <td>0.000000</td>\n",
              "      <td>2.852116e+05</td>\n",
              "      <td>13.500000</td>\n",
              "      <td>20.250000</td>\n",
              "      <td>0.000000</td>\n",
              "    </tr>\n",
              "    <tr>\n",
              "      <th>China</th>\n",
              "      <td>221.394576</td>\n",
              "      <td>6.617534e+05</td>\n",
              "      <td>13.651282</td>\n",
              "      <td>25.820513</td>\n",
              "      <td>0.287179</td>\n",
              "    </tr>\n",
              "    <tr>\n",
              "      <th>Egypt</th>\n",
              "      <td>256.291558</td>\n",
              "      <td>6.612711e+05</td>\n",
              "      <td>14.935338</td>\n",
              "      <td>26.481203</td>\n",
              "      <td>0.287218</td>\n",
              "    </tr>\n",
              "    <tr>\n",
              "      <th>Ethiopia</th>\n",
              "      <td>279.784185</td>\n",
              "      <td>1.002323e+06</td>\n",
              "      <td>14.878788</td>\n",
              "      <td>27.303030</td>\n",
              "      <td>0.272727</td>\n",
              "    </tr>\n",
              "    <tr>\n",
              "      <th>France</th>\n",
              "      <td>52.251238</td>\n",
              "      <td>4.154651e+05</td>\n",
              "      <td>13.100000</td>\n",
              "      <td>26.400000</td>\n",
              "      <td>0.200000</td>\n",
              "    </tr>\n",
              "    <tr>\n",
              "      <th>Germany</th>\n",
              "      <td>202.043736</td>\n",
              "      <td>3.581241e+05</td>\n",
              "      <td>15.923077</td>\n",
              "      <td>22.692308</td>\n",
              "      <td>0.307692</td>\n",
              "    </tr>\n",
              "    <tr>\n",
              "      <th>Hong Kong</th>\n",
              "      <td>324.127365</td>\n",
              "      <td>7.196038e+05</td>\n",
              "      <td>14.944444</td>\n",
              "      <td>25.041667</td>\n",
              "      <td>0.263889</td>\n",
              "    </tr>\n",
              "    <tr>\n",
              "      <th>India</th>\n",
              "      <td>252.264463</td>\n",
              "      <td>6.736439e+05</td>\n",
              "      <td>14.478971</td>\n",
              "      <td>26.332420</td>\n",
              "      <td>0.274634</td>\n",
              "    </tr>\n",
              "    <tr>\n",
              "      <th>Indonesia</th>\n",
              "      <td>204.681927</td>\n",
              "      <td>6.665928e+05</td>\n",
              "      <td>14.642857</td>\n",
              "      <td>25.457143</td>\n",
              "      <td>0.222449</td>\n",
              "    </tr>\n",
              "    <tr>\n",
              "      <th>Iran</th>\n",
              "      <td>125.687214</td>\n",
              "      <td>7.208502e+05</td>\n",
              "      <td>13.234043</td>\n",
              "      <td>24.276596</td>\n",
              "      <td>0.212766</td>\n",
              "    </tr>\n",
              "    <tr>\n",
              "      <th>Japan</th>\n",
              "      <td>233.213960</td>\n",
              "      <td>7.206085e+05</td>\n",
              "      <td>14.538462</td>\n",
              "      <td>26.642857</td>\n",
              "      <td>0.263736</td>\n",
              "    </tr>\n",
              "    <tr>\n",
              "      <th>Jordan</th>\n",
              "      <td>0.000000</td>\n",
              "      <td>4.404600e+05</td>\n",
              "      <td>14.000000</td>\n",
              "      <td>22.000000</td>\n",
              "      <td>0.000000</td>\n",
              "    </tr>\n",
              "    <tr>\n",
              "      <th>Kenya</th>\n",
              "      <td>219.071659</td>\n",
              "      <td>6.992530e+05</td>\n",
              "      <td>14.584967</td>\n",
              "      <td>25.934641</td>\n",
              "      <td>0.254902</td>\n",
              "    </tr>\n",
              "    <tr>\n",
              "      <th>Laos</th>\n",
              "      <td>608.391668</td>\n",
              "      <td>8.831708e+05</td>\n",
              "      <td>13.076923</td>\n",
              "      <td>27.025641</td>\n",
              "      <td>0.410256</td>\n",
              "    </tr>\n",
              "    <tr>\n",
              "      <th>Lebanon</th>\n",
              "      <td>207.282882</td>\n",
              "      <td>5.907170e+05</td>\n",
              "      <td>15.000000</td>\n",
              "      <td>25.600917</td>\n",
              "      <td>0.252294</td>\n",
              "    </tr>\n",
              "    <tr>\n",
              "      <th>Malaysia</th>\n",
              "      <td>283.608340</td>\n",
              "      <td>6.468366e+05</td>\n",
              "      <td>13.867403</td>\n",
              "      <td>26.154696</td>\n",
              "      <td>0.279006</td>\n",
              "    </tr>\n",
              "    <tr>\n",
              "      <th>Mexico</th>\n",
              "      <td>289.002248</td>\n",
              "      <td>7.078076e+05</td>\n",
              "      <td>14.536585</td>\n",
              "      <td>25.959350</td>\n",
              "      <td>0.349593</td>\n",
              "    </tr>\n",
              "    <tr>\n",
              "      <th>Nepal</th>\n",
              "      <td>274.910301</td>\n",
              "      <td>6.990494e+05</td>\n",
              "      <td>14.627968</td>\n",
              "      <td>25.788918</td>\n",
              "      <td>0.255937</td>\n",
              "    </tr>\n",
              "    <tr>\n",
              "      <th>Netherlands</th>\n",
              "      <td>250.066544</td>\n",
              "      <td>6.611127e+05</td>\n",
              "      <td>14.639045</td>\n",
              "      <td>26.341292</td>\n",
              "      <td>0.269663</td>\n",
              "    </tr>\n",
              "    <tr>\n",
              "      <th>Nigeria</th>\n",
              "      <td>181.634129</td>\n",
              "      <td>5.621589e+05</td>\n",
              "      <td>14.276923</td>\n",
              "      <td>25.876923</td>\n",
              "      <td>0.276923</td>\n",
              "    </tr>\n",
              "    <tr>\n",
              "      <th>Oman</th>\n",
              "      <td>233.474448</td>\n",
              "      <td>6.986330e+05</td>\n",
              "      <td>14.500000</td>\n",
              "      <td>26.842857</td>\n",
              "      <td>0.271429</td>\n",
              "    </tr>\n",
              "    <tr>\n",
              "      <th>Pakistan</th>\n",
              "      <td>262.767789</td>\n",
              "      <td>6.885892e+05</td>\n",
              "      <td>14.099196</td>\n",
              "      <td>26.638070</td>\n",
              "      <td>0.268097</td>\n",
              "    </tr>\n",
              "    <tr>\n",
              "      <th>Philippines</th>\n",
              "      <td>196.333011</td>\n",
              "      <td>6.174014e+05</td>\n",
              "      <td>14.924658</td>\n",
              "      <td>26.075342</td>\n",
              "      <td>0.250000</td>\n",
              "    </tr>\n",
              "    <tr>\n",
              "      <th>Saudi Arabia</th>\n",
              "      <td>245.420476</td>\n",
              "      <td>3.213708e+05</td>\n",
              "      <td>11.440000</td>\n",
              "      <td>29.600000</td>\n",
              "      <td>0.440000</td>\n",
              "    </tr>\n",
              "    <tr>\n",
              "      <th>Singapore</th>\n",
              "      <td>265.759897</td>\n",
              "      <td>5.833414e+05</td>\n",
              "      <td>16.511848</td>\n",
              "      <td>27.516588</td>\n",
              "      <td>0.317536</td>\n",
              "    </tr>\n",
              "    <tr>\n",
              "      <th>Slovenia</th>\n",
              "      <td>29.367619</td>\n",
              "      <td>1.780482e+05</td>\n",
              "      <td>13.200000</td>\n",
              "      <td>24.800000</td>\n",
              "      <td>0.200000</td>\n",
              "    </tr>\n",
              "    <tr>\n",
              "      <th>South Africa</th>\n",
              "      <td>207.481102</td>\n",
              "      <td>5.738066e+05</td>\n",
              "      <td>12.357143</td>\n",
              "      <td>28.452381</td>\n",
              "      <td>0.333333</td>\n",
              "    </tr>\n",
              "    <tr>\n",
              "      <th>South Korea</th>\n",
              "      <td>224.343509</td>\n",
              "      <td>5.992701e+05</td>\n",
              "      <td>14.304000</td>\n",
              "      <td>26.168000</td>\n",
              "      <td>0.352000</td>\n",
              "    </tr>\n",
              "    <tr>\n",
              "      <th>Spain</th>\n",
              "      <td>344.990667</td>\n",
              "      <td>3.630966e+05</td>\n",
              "      <td>9.800000</td>\n",
              "      <td>24.600000</td>\n",
              "      <td>0.400000</td>\n",
              "    </tr>\n",
              "    <tr>\n",
              "      <th>Sri Lanka</th>\n",
              "      <td>109.607431</td>\n",
              "      <td>7.571147e+05</td>\n",
              "      <td>12.178571</td>\n",
              "      <td>27.642857</td>\n",
              "      <td>0.214286</td>\n",
              "    </tr>\n",
              "    <tr>\n",
              "      <th>Sudan</th>\n",
              "      <td>55.609333</td>\n",
              "      <td>9.332255e+05</td>\n",
              "      <td>12.500000</td>\n",
              "      <td>27.900000</td>\n",
              "      <td>0.300000</td>\n",
              "    </tr>\n",
              "    <tr>\n",
              "      <th>Taiwan</th>\n",
              "      <td>33.862857</td>\n",
              "      <td>6.113569e+05</td>\n",
              "      <td>13.400000</td>\n",
              "      <td>27.800000</td>\n",
              "      <td>0.200000</td>\n",
              "    </tr>\n",
              "    <tr>\n",
              "      <th>Thailand</th>\n",
              "      <td>228.043204</td>\n",
              "      <td>6.923006e+05</td>\n",
              "      <td>14.653377</td>\n",
              "      <td>26.450773</td>\n",
              "      <td>0.270138</td>\n",
              "    </tr>\n",
              "    <tr>\n",
              "      <th>Tunisia</th>\n",
              "      <td>96.710084</td>\n",
              "      <td>5.399989e+05</td>\n",
              "      <td>13.529412</td>\n",
              "      <td>26.823529</td>\n",
              "      <td>0.117647</td>\n",
              "    </tr>\n",
              "    <tr>\n",
              "      <th>Turkey</th>\n",
              "      <td>140.040762</td>\n",
              "      <td>1.015548e+06</td>\n",
              "      <td>16.400000</td>\n",
              "      <td>23.900000</td>\n",
              "      <td>0.300000</td>\n",
              "    </tr>\n",
              "    <tr>\n",
              "      <th>USA</th>\n",
              "      <td>201.158400</td>\n",
              "      <td>5.752928e+05</td>\n",
              "      <td>11.100000</td>\n",
              "      <td>24.900000</td>\n",
              "      <td>0.200000</td>\n",
              "    </tr>\n",
              "    <tr>\n",
              "      <th>United Kingdom</th>\n",
              "      <td>286.979133</td>\n",
              "      <td>8.544841e+05</td>\n",
              "      <td>15.000000</td>\n",
              "      <td>27.200000</td>\n",
              "      <td>0.300000</td>\n",
              "    </tr>\n",
              "    <tr>\n",
              "      <th>Utd.Arab Emir.</th>\n",
              "      <td>249.167243</td>\n",
              "      <td>6.927871e+05</td>\n",
              "      <td>15.045283</td>\n",
              "      <td>25.569811</td>\n",
              "      <td>0.256604</td>\n",
              "    </tr>\n",
              "    <tr>\n",
              "      <th>Vietnam</th>\n",
              "      <td>188.151288</td>\n",
              "      <td>5.816036e+05</td>\n",
              "      <td>16.113636</td>\n",
              "      <td>25.590909</td>\n",
              "      <td>0.272727</td>\n",
              "    </tr>\n",
              "    <tr>\n",
              "      <th>Yemen</th>\n",
              "      <td>352.084174</td>\n",
              "      <td>8.561406e+05</td>\n",
              "      <td>15.421875</td>\n",
              "      <td>27.343750</td>\n",
              "      <td>0.312500</td>\n",
              "    </tr>\n",
              "  </tbody>\n",
              "</table>\n",
              "</div>"
            ],
            "text/plain": [
              "                 Purchase amount during research period  ...  Purchase\n",
              "Ship to country                                          ...          \n",
              "Algeria                                      683.431492  ...  0.555556\n",
              "Argentina                                     38.553718  ...  0.153846\n",
              "Australia                                    181.111830  ...  0.184211\n",
              "Bangladesh                                   272.455006  ...  0.268293\n",
              "Cambodia                                     174.368108  ...  0.188119\n",
              "Canada                                         0.000000  ...  0.000000\n",
              "China                                        221.394576  ...  0.287179\n",
              "Egypt                                        256.291558  ...  0.287218\n",
              "Ethiopia                                     279.784185  ...  0.272727\n",
              "France                                        52.251238  ...  0.200000\n",
              "Germany                                      202.043736  ...  0.307692\n",
              "Hong Kong                                    324.127365  ...  0.263889\n",
              "India                                        252.264463  ...  0.274634\n",
              "Indonesia                                    204.681927  ...  0.222449\n",
              "Iran                                         125.687214  ...  0.212766\n",
              "Japan                                        233.213960  ...  0.263736\n",
              "Jordan                                         0.000000  ...  0.000000\n",
              "Kenya                                        219.071659  ...  0.254902\n",
              "Laos                                         608.391668  ...  0.410256\n",
              "Lebanon                                      207.282882  ...  0.252294\n",
              "Malaysia                                     283.608340  ...  0.279006\n",
              "Mexico                                       289.002248  ...  0.349593\n",
              "Nepal                                        274.910301  ...  0.255937\n",
              "Netherlands                                  250.066544  ...  0.269663\n",
              "Nigeria                                      181.634129  ...  0.276923\n",
              "Oman                                         233.474448  ...  0.271429\n",
              "Pakistan                                     262.767789  ...  0.268097\n",
              "Philippines                                  196.333011  ...  0.250000\n",
              "Saudi Arabia                                 245.420476  ...  0.440000\n",
              "Singapore                                    265.759897  ...  0.317536\n",
              "Slovenia                                      29.367619  ...  0.200000\n",
              "South Africa                                 207.481102  ...  0.333333\n",
              "South Korea                                  224.343509  ...  0.352000\n",
              "Spain                                        344.990667  ...  0.400000\n",
              "Sri Lanka                                    109.607431  ...  0.214286\n",
              "Sudan                                         55.609333  ...  0.300000\n",
              "Taiwan                                        33.862857  ...  0.200000\n",
              "Thailand                                     228.043204  ...  0.270138\n",
              "Tunisia                                       96.710084  ...  0.117647\n",
              "Turkey                                       140.040762  ...  0.300000\n",
              "USA                                          201.158400  ...  0.200000\n",
              "United Kingdom                               286.979133  ...  0.300000\n",
              "Utd.Arab Emir.                               249.167243  ...  0.256604\n",
              "Vietnam                                      188.151288  ...  0.272727\n",
              "Yemen                                        352.084174  ...  0.312500\n",
              "\n",
              "[45 rows x 5 columns]"
            ]
          },
          "metadata": {
            "tags": []
          },
          "execution_count": 28
        }
      ]
    },
    {
      "cell_type": "markdown",
      "metadata": {
        "id": "Gz7KbeOL-5Qe",
        "colab_type": "text"
      },
      "source": [
        "# Visualizations"
      ]
    },
    {
      "cell_type": "code",
      "metadata": {
        "id": "9fox9ty2_Gn_",
        "colab_type": "code",
        "outputId": "dd35e5a4-b257-408d-a01d-ae884a3a9950",
        "colab": {
          "base_uri": "https://localhost:8080/",
          "height": 319
        }
      },
      "source": [
        "# External Agent\n",
        "%matplotlib inline\n",
        "pd.crosstab(df[\"External Agent\"],df[\"Purchase\"]).plot(kind='bar')\n",
        "plt.title('Purchase Frequency for External Agent Assignment')\n",
        "plt.xticks(rotation=0)\n",
        "plt.xlabel('External Agent')\n",
        "plt.ylabel('Frequency of Purchase')"
      ],
      "execution_count": 0,
      "outputs": [
        {
          "output_type": "execute_result",
          "data": {
            "text/plain": [
              "Text(0, 0.5, 'Frequency of Purchase')"
            ]
          },
          "metadata": {
            "tags": []
          },
          "execution_count": 29
        },
        {
          "output_type": "display_data",
          "data": {
            "image/png": "[encoded data removed]",
            "text/plain": [
              "<Figure size 432x288 with 1 Axes>"
            ]
          },
          "metadata": {
            "tags": []
          }
        }
      ]
    },
    {
      "cell_type": "code",
      "metadata": {
        "id": "s_uKrceRAxJC",
        "colab_type": "code",
        "outputId": "f493494c-850f-4478-9f10-cdfbf38c74a8",
        "colab": {
          "base_uri": "https://localhost:8080/",
          "height": 319
        }
      },
      "source": [
        "# Repurchase Method\n",
        "pd.crosstab(df[\"Repurchase Method\"],df[\"Purchase\"]).plot(kind='bar')\n",
        "plt.title('Purchase Frequency by Repurchase Methods')\n",
        "plt.xticks(rotation=0)\n",
        "plt.xlabel('Repurchase Method')\n",
        "plt.ylabel('Frequency of Purchase')"
      ],
      "execution_count": 0,
      "outputs": [
        {
          "output_type": "execute_result",
          "data": {
            "text/plain": [
              "Text(0, 0.5, 'Frequency of Purchase')"
            ]
          },
          "metadata": {
            "tags": []
          },
          "execution_count": 30
        },
        {
          "output_type": "display_data",
          "data": {
            "image/png": "[encoded data removed]",
            "text/plain": [
              "<Figure size 432x288 with 1 Axes>"
            ]
          },
          "metadata": {
            "tags": []
          }
        }
      ]
    },
    {
      "cell_type": "code",
      "metadata": {
        "id": "suj3rKyWBjYy",
        "colab_type": "code",
        "outputId": "3f754f31-62a8-4263-ce55-bc186929bc52",
        "colab": {
          "base_uri": "https://localhost:8080/",
          "height": 385
        }
      },
      "source": [
        "# Last Transaction Channel\n",
        "pd.crosstab(df[\"Last Transaction Channel\"],df[\"Purchase\"]).plot(kind='bar')\n",
        "plt.title('Purchase Frequency by Last Transaction Channels')\n",
        "plt.xticks(rotation=45)\n",
        "plt.xlabel('Last Transaction Channel')\n",
        "plt.ylabel('Frequency of Purchase')"
      ],
      "execution_count": 0,
      "outputs": [
        {
          "output_type": "execute_result",
          "data": {
            "text/plain": [
              "Text(0, 0.5, 'Frequency of Purchase')"
            ]
          },
          "metadata": {
            "tags": []
          },
          "execution_count": 31
        },
        {
          "output_type": "display_data",
          "data": {
            "image/png": "[encoded data removed]",
            "text/plain": [
              "<Figure size 432x288 with 1 Axes>"
            ]
          },
          "metadata": {
            "tags": []
          }
        }
      ]
    },
    {
      "cell_type": "code",
      "metadata": {
        "id": "nNVyCohSCOv_",
        "colab_type": "code",
        "outputId": "44f8e599-a006-4851-8c18-65967f11a8ba",
        "colab": {
          "base_uri": "https://localhost:8080/",
          "height": 319
        }
      },
      "source": [
        "# Miltefosine\n",
        "pd.crosstab(df[\"Miltefosine\"],df[\"Purchase\"]).plot(kind='bar')\n",
        "plt.title('Purchase Frequency by Prior Purchase of Miltefosine')\n",
        "plt.xticks(rotation=0)\n",
        "plt.xlabel('Miltefosine')\n",
        "plt.ylabel('Frequency of Purchase')"
      ],
      "execution_count": 0,
      "outputs": [
        {
          "output_type": "execute_result",
          "data": {
            "text/plain": [
              "Text(0, 0.5, 'Frequency of Purchase')"
            ]
          },
          "metadata": {
            "tags": []
          },
          "execution_count": 32
        },
        {
          "output_type": "display_data",
          "data": {
            "image/png": "[encoded data removed]",
            "text/plain": [
              "<Figure size 432x288 with 1 Axes>"
            ]
          },
          "metadata": {
            "tags": []
          }
        }
      ]
    },
    {
      "cell_type": "code",
      "metadata": {
        "id": "B9blVTEGC7oe",
        "colab_type": "code",
        "outputId": "723f0ec6-b1df-426c-d417-2f9ca5f7922d",
        "colab": {
          "base_uri": "https://localhost:8080/",
          "height": 319
        }
      },
      "source": [
        "pd.crosstab(df[\"Ambisome\"],df[\"Purchase\"]).plot(kind='bar')\n",
        "plt.title('Purchase Frequency by Prior Purchase of Ambisome')\n",
        "plt.xticks(rotation=0)\n",
        "plt.xlabel('Ambisome')\n",
        "plt.ylabel('Frequency of Purchase')"
      ],
      "execution_count": 0,
      "outputs": [
        {
          "output_type": "execute_result",
          "data": {
            "text/plain": [
              "Text(0, 0.5, 'Frequency of Purchase')"
            ]
          },
          "metadata": {
            "tags": []
          },
          "execution_count": 33
        },
        {
          "output_type": "display_data",
          "data": {
            "image/png": "[encoded data removed]",
            "text/plain": [
              "<Figure size 432x288 with 1 Axes>"
            ]
          },
          "metadata": {
            "tags": []
          }
        }
      ]
    },
    {
      "cell_type": "code",
      "metadata": {
        "id": "1ItFYiITDEd1",
        "colab_type": "code",
        "outputId": "21b93cc8-d951-49b3-fb2c-33cec5bae09e",
        "colab": {
          "base_uri": "https://localhost:8080/",
          "height": 319
        }
      },
      "source": [
        "# Pentamidine\n",
        "pd.crosstab(df[\"Pentamidine\"],df[\"Purchase\"]).plot(kind='bar')\n",
        "plt.title('Purchase Frequency by Prior Purchase of Pentamidine')\n",
        "plt.xticks(rotation=0)\n",
        "plt.xlabel('Pentamidine')\n",
        "plt.ylabel('Frequency of Purchase')"
      ],
      "execution_count": 0,
      "outputs": [
        {
          "output_type": "execute_result",
          "data": {
            "text/plain": [
              "Text(0, 0.5, 'Frequency of Purchase')"
            ]
          },
          "metadata": {
            "tags": []
          },
          "execution_count": 34
        },
        {
          "output_type": "display_data",
          "data": {
            "image/png": "[encoded data removed]",
            "text/plain": [
              "<Figure size 432x288 with 1 Axes>"
            ]
          },
          "metadata": {
            "tags": []
          }
        }
      ]
    },
    {
      "cell_type": "code",
      "metadata": {
        "id": "JCQwl0cq84UV",
        "colab_type": "code",
        "outputId": "49ad2050-b03e-410f-8b13-031c065f42db",
        "colab": {
          "base_uri": "https://localhost:8080/",
          "height": 198
        }
      },
      "source": [
        "from wordcloud import WordCloud\n",
        "wordcloud2 = WordCloud(collocations=False).generate(' '.join(df['Ship to country']))\n",
        "# Generate plot\n",
        "plt.imshow(wordcloud2)\n",
        "plt.axis(\"off\")\n",
        "plt.show()"
      ],
      "execution_count": 0,
      "outputs": [
        {
          "output_type": "display_data",
          "data": {
            "image/png": "[encoded data removed]",
            "text/plain": [
              "<Figure size 432x288 with 1 Axes>"
            ]
          },
          "metadata": {
            "tags": []
          }
        }
      ]
    },
    {
      "cell_type": "code",
      "metadata": {
        "id": "8zeOKM5ZID59",
        "colab_type": "code",
        "outputId": "1bcd31c7-af56-47d3-8bc8-3d0df1b2b7ab",
        "colab": {
          "base_uri": "https://localhost:8080/",
          "height": 303
        }
      },
      "source": [
        "# Historical Sales Volume\n",
        "sns.distplot(df['Historical Sales Volume'], kde = False, color ='red', bins = 50) \n",
        "plt.xlabel('Historical Sales Volume')"
      ],
      "execution_count": 0,
      "outputs": [
        {
          "output_type": "execute_result",
          "data": {
            "text/plain": [
              "Text(0.5, 0, 'Historical Sales Volume')"
            ]
          },
          "metadata": {
            "tags": []
          },
          "execution_count": 43
        },
        {
          "output_type": "display_data",
          "data": {
            "image/png": "[encoded data removed]",
            "text/plain": [
              "<Figure size 432x288 with 1 Axes>"
            ]
          },
          "metadata": {
            "tags": []
          }
        }
      ]
    },
    {
      "cell_type": "code",
      "metadata": {
        "id": "t0Rv_Au7Iq_R",
        "colab_type": "code",
        "outputId": "1ba7b268-f22b-4a99-cedd-e4420726232d",
        "colab": {
          "base_uri": "https://localhost:8080/",
          "height": 303
        }
      },
      "source": [
        "# Number of Prior Year Transactions\n",
        "sns.distplot(df['Number of Prior Year Transactions'], kde = False, color ='red', bins = 50) \n",
        "plt.xlabel('Number of Prior Year Transactions')"
      ],
      "execution_count": 0,
      "outputs": [
        {
          "output_type": "execute_result",
          "data": {
            "text/plain": [
              "Text(0.5, 0, 'Number of Prior Year Transactions')"
            ]
          },
          "metadata": {
            "tags": []
          },
          "execution_count": 44
        },
        {
          "output_type": "display_data",
          "data": {
            "image/png": "[encoded data removed]",
            "text/plain": [
              "<Figure size 432x288 with 1 Axes>"
            ]
          },
          "metadata": {
            "tags": []
          }
        }
      ]
    },
    {
      "cell_type": "code",
      "metadata": {
        "id": "eqQor4Q0I8xK",
        "colab_type": "code",
        "outputId": "50125858-18cd-4581-aa20-a8e13ff859de",
        "colab": {
          "base_uri": "https://localhost:8080/",
          "height": 303
        }
      },
      "source": [
        "# Number of Years Being Customer\n",
        "sns.distplot(df['Number of Years Being Customer'], kde = False, color ='red', bins = 30) \n",
        "plt.xlabel('Number of Years Being Customer')"
      ],
      "execution_count": 0,
      "outputs": [
        {
          "output_type": "execute_result",
          "data": {
            "text/plain": [
              "Text(0.5, 0, 'Number of Years Being Customer')"
            ]
          },
          "metadata": {
            "tags": []
          },
          "execution_count": 45
        },
        {
          "output_type": "display_data",
          "data": {
            "image/png": "[encoded data removed]",
            "text/plain": [
              "<Figure size 432x288 with 1 Axes>"
            ]
          },
          "metadata": {
            "tags": []
          }
        }
      ]
    },
    {
      "cell_type": "code",
      "metadata": {
        "id": "bG9hkz7wKdaD",
        "colab_type": "code",
        "colab": {}
      },
      "source": [
        "# drop purchase amount\n",
        "df = df.drop([\"Purchase amount during research period\"], axis = 1)"
      ],
      "execution_count": 0,
      "outputs": []
    },
    {
      "cell_type": "code",
      "metadata": {
        "id": "jLUpBIYCKSHN",
        "colab_type": "code",
        "outputId": "695dd179-360c-4565-df40-a402dccfa584",
        "colab": {
          "base_uri": "https://localhost:8080/",
          "height": 585
        }
      },
      "source": [
        "# pairplot\n",
        "sns.pairplot(df, hue =\"Purchase\", palette ='coolwarm') \n",
        "plt.savefig('1') "
      ],
      "execution_count": 0,
      "outputs": [
        {
          "output_type": "display_data",
          "data": {
            "image/png": "[encoded data removed]",
            "text/plain": [
              "<Figure size 596.05x540 with 12 Axes>"
            ]
          },
          "metadata": {
            "tags": []
          }
        }
      ]
    },
    {
      "cell_type": "markdown",
      "metadata": {
        "id": "ezDtwQwC3m9v",
        "colab_type": "text"
      },
      "source": [
        "# Create Dummy Variables"
      ]
    },
    {
      "cell_type": "code",
      "metadata": {
        "id": "4WYYR8653pE9",
        "colab_type": "code",
        "colab": {}
      },
      "source": [
        "cat_vars=[\"External Agent\", 'Repurchase Method', 'Last Transaction Channel', 'Miltefosine', 'Ambisome', 'Pentamidine', 'Ship to country']\n",
        "for var in cat_vars:\n",
        "    cat_list = pd.get_dummies(df[var], prefix=var)\n",
        "    df1=df.join(cat_list)\n",
        "    df=df1\n",
        "df_vars=df.columns.values.tolist()\n",
        "to_keep=[i for i in df_vars if i not in cat_vars]"
      ],
      "execution_count": 0,
      "outputs": []
    },
    {
      "cell_type": "code",
      "metadata": {
        "id": "aFz-QmVM4fLs",
        "colab_type": "code",
        "outputId": "69792201-136c-4683-c687-9ebfed9529b3",
        "colab": {
          "base_uri": "https://localhost:8080/",
          "height": 641
        }
      },
      "source": [
        "df_final = df[to_keep]\n",
        "df_final.columns.values"
      ],
      "execution_count": 0,
      "outputs": [
        {
          "output_type": "execute_result",
          "data": {
            "text/plain": [
              "array(['Historical Sales Volume', 'Number of Prior Year Transactions',\n",
              "       'Number of Years Being Customer', 'Purchase',\n",
              "       'External Agent_Assigned', 'External Agent_Not assigned',\n",
              "       'Repurchase Method_AUTO RENEW', 'Repurchase Method_NOTICE',\n",
              "       'Last Transaction Channel_AUTO RENEW',\n",
              "       'Last Transaction Channel_BILLING',\n",
              "       'Last Transaction Channel_BRANCH (PHONE)',\n",
              "       'Last Transaction Channel_BRANCH (POS)',\n",
              "       'Last Transaction Channel_IT', 'Last Transaction Channel_MAIL',\n",
              "       'Last Transaction Channel_PHONE', 'Last Transaction Channel_WEB',\n",
              "       'Miltefosine_N', 'Miltefosine_Y', 'Ambisome_N', 'Ambisome_Y',\n",
              "       'Pentamidine_N', 'Pentamidine_Y', 'Ship to country_Algeria',\n",
              "       'Ship to country_Argentina', 'Ship to country_Australia',\n",
              "       'Ship to country_Bangladesh', 'Ship to country_Cambodia',\n",
              "       'Ship to country_Canada', 'Ship to country_China',\n",
              "       'Ship to country_Egypt', 'Ship to country_Ethiopia',\n",
              "       'Ship to country_France', 'Ship to country_Germany',\n",
              "       'Ship to country_Hong Kong', 'Ship to country_India',\n",
              "       'Ship to country_Indonesia', 'Ship to country_Iran',\n",
              "       'Ship to country_Japan', 'Ship to country_Jordan',\n",
              "       'Ship to country_Kenya', 'Ship to country_Laos',\n",
              "       'Ship to country_Lebanon', 'Ship to country_Malaysia',\n",
              "       'Ship to country_Mexico', 'Ship to country_Nepal',\n",
              "       'Ship to country_Netherlands', 'Ship to country_Nigeria',\n",
              "       'Ship to country_Oman', 'Ship to country_Pakistan',\n",
              "       'Ship to country_Philippines', 'Ship to country_Saudi Arabia',\n",
              "       'Ship to country_Singapore', 'Ship to country_Slovenia',\n",
              "       'Ship to country_South Africa', 'Ship to country_South Korea',\n",
              "       'Ship to country_Spain', 'Ship to country_Sri Lanka',\n",
              "       'Ship to country_Sudan', 'Ship to country_Taiwan',\n",
              "       'Ship to country_Thailand', 'Ship to country_Tunisia',\n",
              "       'Ship to country_Turkey', 'Ship to country_USA',\n",
              "       'Ship to country_United Kingdom', 'Ship to country_Utd.Arab Emir.',\n",
              "       'Ship to country_Vietnam', 'Ship to country_Yemen'], dtype=object)"
            ]
          },
          "metadata": {
            "tags": []
          },
          "execution_count": 49
        }
      ]
    },
    {
      "cell_type": "code",
      "metadata": {
        "id": "aAsJMEhf4xQd",
        "colab_type": "code",
        "outputId": "e65376f0-d790-425d-a040-449cbc28e78f",
        "colab": {
          "base_uri": "https://localhost:8080/",
          "height": 35
        }
      },
      "source": [
        "# number of explanatory variables\n",
        "len(df_final.columns.values)-1"
      ],
      "execution_count": 0,
      "outputs": [
        {
          "output_type": "execute_result",
          "data": {
            "text/plain": [
              "66"
            ]
          },
          "metadata": {
            "tags": []
          },
          "execution_count": 50
        }
      ]
    },
    {
      "cell_type": "code",
      "metadata": {
        "id": "nT1aYlvPcfAa",
        "colab_type": "code",
        "colab": {}
      },
      "source": [
        "# separate data by x and y\n",
        "x = df_final.loc[:, df_final.columns != 'Purchase']\n",
        "y = df_final.loc[:, df_final.columns == 'Purchase']\n",
        "# 20% test data\n",
        "from sklearn.model_selection import train_test_split\n",
        "x_train_orig, x_test_orig, y_train_orig, y_test_orig = train_test_split(x, y, test_size=0.2, random_state=0)"
      ],
      "execution_count": 0,
      "outputs": []
    },
    {
      "cell_type": "code",
      "metadata": {
        "id": "7bxu2L1F9Icd",
        "colab_type": "code",
        "outputId": "072c0314-c868-44fd-94f1-cffafe5718ae",
        "colab": {
          "base_uri": "https://localhost:8080/",
          "height": 641
        }
      },
      "source": [
        "x_train_orig.columns"
      ],
      "execution_count": 0,
      "outputs": [
        {
          "output_type": "execute_result",
          "data": {
            "text/plain": [
              "Index(['Historical Sales Volume', 'Number of Prior Year Transactions',\n",
              "       'Number of Years Being Customer', 'External Agent_Assigned',\n",
              "       'External Agent_Not assigned', 'Repurchase Method_AUTO RENEW',\n",
              "       'Repurchase Method_NOTICE', 'Last Transaction Channel_AUTO RENEW',\n",
              "       'Last Transaction Channel_BILLING',\n",
              "       'Last Transaction Channel_BRANCH (PHONE)',\n",
              "       'Last Transaction Channel_BRANCH (POS)', 'Last Transaction Channel_IT',\n",
              "       'Last Transaction Channel_MAIL', 'Last Transaction Channel_PHONE',\n",
              "       'Last Transaction Channel_WEB', 'Miltefosine_N', 'Miltefosine_Y',\n",
              "       'Ambisome_N', 'Ambisome_Y', 'Pentamidine_N', 'Pentamidine_Y',\n",
              "       'Ship to country_Algeria', 'Ship to country_Argentina',\n",
              "       'Ship to country_Australia', 'Ship to country_Bangladesh',\n",
              "       'Ship to country_Cambodia', 'Ship to country_Canada',\n",
              "       'Ship to country_China', 'Ship to country_Egypt',\n",
              "       'Ship to country_Ethiopia', 'Ship to country_France',\n",
              "       'Ship to country_Germany', 'Ship to country_Hong Kong',\n",
              "       'Ship to country_India', 'Ship to country_Indonesia',\n",
              "       'Ship to country_Iran', 'Ship to country_Japan',\n",
              "       'Ship to country_Jordan', 'Ship to country_Kenya',\n",
              "       'Ship to country_Laos', 'Ship to country_Lebanon',\n",
              "       'Ship to country_Malaysia', 'Ship to country_Mexico',\n",
              "       'Ship to country_Nepal', 'Ship to country_Netherlands',\n",
              "       'Ship to country_Nigeria', 'Ship to country_Oman',\n",
              "       'Ship to country_Pakistan', 'Ship to country_Philippines',\n",
              "       'Ship to country_Saudi Arabia', 'Ship to country_Singapore',\n",
              "       'Ship to country_Slovenia', 'Ship to country_South Africa',\n",
              "       'Ship to country_South Korea', 'Ship to country_Spain',\n",
              "       'Ship to country_Sri Lanka', 'Ship to country_Sudan',\n",
              "       'Ship to country_Taiwan', 'Ship to country_Thailand',\n",
              "       'Ship to country_Tunisia', 'Ship to country_Turkey',\n",
              "       'Ship to country_USA', 'Ship to country_United Kingdom',\n",
              "       'Ship to country_Utd.Arab Emir.', 'Ship to country_Vietnam',\n",
              "       'Ship to country_Yemen'],\n",
              "      dtype='object')"
            ]
          },
          "metadata": {
            "tags": []
          },
          "execution_count": 52
        }
      ]
    },
    {
      "cell_type": "code",
      "metadata": {
        "id": "4ZlfV-biC5xE",
        "colab_type": "code",
        "colab": {}
      },
      "source": [
        "columns = x_train_orig.columns"
      ],
      "execution_count": 0,
      "outputs": []
    },
    {
      "cell_type": "markdown",
      "metadata": {
        "id": "bzKQmAElcboc",
        "colab_type": "text"
      },
      "source": [
        "# Oversampling using SMOTE"
      ]
    },
    {
      "cell_type": "code",
      "metadata": {
        "id": "JP45oQT55bZ9",
        "colab_type": "code",
        "outputId": "5dc25432-2e99-4883-b11a-8d720c48ed90",
        "colab": {
          "base_uri": "https://localhost:8080/",
          "height": 147
        }
      },
      "source": [
        "from imblearn.over_sampling import SMOTENC\n",
        "smote_nc = SMOTENC(categorical_features=list(range(3, len(x_train_orig.columns))), random_state=0)\n",
        "sm_data_x,sm_data_y=smote_nc.fit_sample(x_train_orig, y_train_orig)\n",
        "sm_data_x = pd.DataFrame(data=sm_data_x, columns=columns)\n",
        "sm_data_y= pd.DataFrame(data=sm_data_y, columns=['Purchase'])"
      ],
      "execution_count": 0,
      "outputs": [
        {
          "output_type": "stream",
          "text": [
            "/usr/local/lib/python3.6/dist-packages/sklearn/utils/validation.py:760: DataConversionWarning: A column-vector y was passed when a 1d array was expected. Please change the shape of y to (n_samples, ), for example using ravel().\n",
            "  y = column_or_1d(y, warn=True)\n",
            "/usr/local/lib/python3.6/dist-packages/sklearn/utils/deprecation.py:87: FutureWarning: Function safe_indexing is deprecated; safe_indexing is deprecated in version 0.22 and will be removed in version 0.24.\n",
            "  warnings.warn(msg, category=FutureWarning)\n",
            "/usr/local/lib/python3.6/dist-packages/sklearn/utils/deprecation.py:87: FutureWarning: Function safe_indexing is deprecated; safe_indexing is deprecated in version 0.22 and will be removed in version 0.24.\n",
            "  warnings.warn(msg, category=FutureWarning)\n"
          ],
          "name": "stderr"
        }
      ]
    },
    {
      "cell_type": "code",
      "metadata": {
        "id": "YmUHUaP-M2pR",
        "colab_type": "code",
        "outputId": "8e73dabf-99ed-4212-ded9-63f2952757f0",
        "colab": {
          "base_uri": "https://localhost:8080/",
          "height": 109
        }
      },
      "source": [
        "print(\"length of oversampled data is \",len(sm_data_x))\n",
        "print(\"Number of no purchase in oversampled data\",len(sm_data_y[sm_data_y['Purchase']==0]))\n",
        "print(\"Number of purchase\",len(sm_data_y[sm_data_y['Purchase']==1]))\n",
        "print(\"Proportion of no purchase data in oversampled data is \",len(sm_data_y[sm_data_y['Purchase']==0])/len(sm_data_x))\n",
        "print(\"Proportion of purchase data in oversampled data is \",len(sm_data_y[sm_data_y['Purchase']==1])/len(sm_data_x))"
      ],
      "execution_count": 0,
      "outputs": [
        {
          "output_type": "stream",
          "text": [
            "length of oversampled data is  18274\n",
            "Number of no purchase in oversampled data 9137\n",
            "Number of purchase 9137\n",
            "Proportion of no purchase data in oversampled data is  0.5\n",
            "Proportion of purchase data in oversampled data is  0.5\n"
          ],
          "name": "stdout"
        }
      ]
    },
    {
      "cell_type": "code",
      "metadata": {
        "id": "Z9kfCYOVh5qI",
        "colab_type": "code",
        "outputId": "0bf8161d-94f0-40a0-c326-7780a7287618",
        "colab": {
          "base_uri": "https://localhost:8080/",
          "height": 303
        }
      },
      "source": [
        "sns.countplot(x = 'Purchase', data = sm_data_y, palette = 'hls')\n",
        "plt.show()\n",
        "plt.savefig('ccount_plot')"
      ],
      "execution_count": 0,
      "outputs": [
        {
          "output_type": "display_data",
          "data": {
            "image/png": "[encoded data removed]",
            "text/plain": [
              "<Figure size 432x288 with 1 Axes>"
            ]
          },
          "metadata": {
            "tags": []
          }
        },
        {
          "output_type": "display_data",
          "data": {
            "text/plain": [
              "<Figure size 432x288 with 0 Axes>"
            ]
          },
          "metadata": {
            "tags": []
          }
        }
      ]
    },
    {
      "cell_type": "markdown",
      "metadata": {
        "id": "ZFPhTMrN9Nco",
        "colab_type": "text"
      },
      "source": [
        "# Feature Selection"
      ]
    },
    {
      "cell_type": "code",
      "metadata": {
        "id": "rSYLydVr-0Xn",
        "colab_type": "code",
        "outputId": "60f517ca-9be1-4e87-bd6d-d4d60d5cff71",
        "colab": {
          "base_uri": "https://localhost:8080/",
          "height": 182
        }
      },
      "source": [
        "from sklearn.feature_selection import RFE\n",
        "from sklearn.linear_model import LogisticRegression\n",
        "logreg = LogisticRegression()\n",
        "rfe = RFE(logreg,)\n",
        "rfe = rfe.fit(sm_data_x, sm_data_y.values.ravel())\n",
        "print(rfe.support_)\n",
        "print(rfe.ranking_)"
      ],
      "execution_count": 0,
      "outputs": [
        {
          "output_type": "stream",
          "text": [
            "[ True  True  True  True  True  True  True  True False  True  True False\n",
            "  True  True  True  True False  True  True  True  True False False False\n",
            "  True False False  True  True False False False False  True  True False\n",
            "  True False  True False  True  True False  True  True False False  True\n",
            "  True False False False False False False False False False  True False\n",
            " False False False  True False False]\n",
            "[ 1  1  1  1  1  1  1  1 31  1  1 32  1  1  1  1  3  1  1  1  1 28 18 12\n",
            "  1  4 21  1  1 16 24 20  6  1  1 13  1 22  1 30  1  1  9  1  1  8 10  1\n",
            "  1 33  2 29 15  5 34  7 27 25  1 19 23 26 17  1 11 14]\n"
          ],
          "name": "stdout"
        }
      ]
    },
    {
      "cell_type": "code",
      "metadata": {
        "id": "LYZuMumR_8AA",
        "colab_type": "code",
        "colab": {}
      },
      "source": [
        "sm_data_x = sm_data_x[sm_data_x.columns[rfe.support_]]"
      ],
      "execution_count": 0,
      "outputs": []
    },
    {
      "cell_type": "code",
      "metadata": {
        "id": "UP2XBeKXLPrN",
        "colab_type": "code",
        "colab": {}
      },
      "source": [
        "sm_x_test = x_test_orig[sm_data_x.columns]"
      ],
      "execution_count": 0,
      "outputs": []
    },
    {
      "cell_type": "code",
      "metadata": {
        "id": "OXhi8JvIAfv8",
        "colab_type": "code",
        "outputId": "f44ff36c-99c6-4f77-e1a0-0cd924fdd434",
        "colab": {
          "base_uri": "https://localhost:8080/",
          "height": 348
        }
      },
      "source": [
        "sm_data_x.columns"
      ],
      "execution_count": 0,
      "outputs": [
        {
          "output_type": "execute_result",
          "data": {
            "text/plain": [
              "Index(['Historical Sales Volume', 'Number of Prior Year Transactions',\n",
              "       'Number of Years Being Customer', 'External Agent_Assigned',\n",
              "       'External Agent_Not assigned', 'Repurchase Method_AUTO RENEW',\n",
              "       'Repurchase Method_NOTICE', 'Last Transaction Channel_AUTO RENEW',\n",
              "       'Last Transaction Channel_BRANCH (PHONE)',\n",
              "       'Last Transaction Channel_BRANCH (POS)',\n",
              "       'Last Transaction Channel_MAIL', 'Last Transaction Channel_PHONE',\n",
              "       'Last Transaction Channel_WEB', 'Miltefosine_N', 'Ambisome_N',\n",
              "       'Ambisome_Y', 'Pentamidine_N', 'Pentamidine_Y',\n",
              "       'Ship to country_Bangladesh', 'Ship to country_China',\n",
              "       'Ship to country_Egypt', 'Ship to country_India',\n",
              "       'Ship to country_Indonesia', 'Ship to country_Japan',\n",
              "       'Ship to country_Kenya', 'Ship to country_Lebanon',\n",
              "       'Ship to country_Malaysia', 'Ship to country_Nepal',\n",
              "       'Ship to country_Netherlands', 'Ship to country_Pakistan',\n",
              "       'Ship to country_Philippines', 'Ship to country_Thailand',\n",
              "       'Ship to country_Utd.Arab Emir.'],\n",
              "      dtype='object')"
            ]
          },
          "metadata": {
            "tags": []
          },
          "execution_count": 89
        }
      ]
    },
    {
      "cell_type": "code",
      "metadata": {
        "id": "KeJNN_3ON_Z8",
        "colab_type": "code",
        "outputId": "c01b5be5-5ddf-4a4e-a8f2-84f8290101de",
        "colab": {
          "base_uri": "https://localhost:8080/",
          "height": 35
        }
      },
      "source": [
        "sm_data_x.shape[1]"
      ],
      "execution_count": 0,
      "outputs": [
        {
          "output_type": "execute_result",
          "data": {
            "text/plain": [
              "33"
            ]
          },
          "metadata": {
            "tags": []
          },
          "execution_count": 90
        }
      ]
    },
    {
      "cell_type": "markdown",
      "metadata": {
        "id": "cA5BrfAoXtfA",
        "colab_type": "text"
      },
      "source": [
        "# Logistic Regression"
      ]
    },
    {
      "cell_type": "code",
      "metadata": {
        "id": "_Q2vD9mRZs6F",
        "colab_type": "code",
        "outputId": "b8c36dcd-12b6-43f6-84ef-02bbfe8235c7",
        "colab": {
          "base_uri": "https://localhost:8080/",
          "height": 166
        }
      },
      "source": [
        "from sklearn.linear_model import LogisticRegression\n",
        "from sklearn import metrics\n",
        "\n",
        "logreg = LogisticRegression(solver = 'liblinear')\n",
        "logreg.fit(sm_data_x, sm_data_y)\n"
      ],
      "execution_count": 0,
      "outputs": [
        {
          "output_type": "stream",
          "text": [
            "/usr/local/lib/python3.6/dist-packages/sklearn/utils/validation.py:760: DataConversionWarning: A column-vector y was passed when a 1d array was expected. Please change the shape of y to (n_samples, ), for example using ravel().\n",
            "  y = column_or_1d(y, warn=True)\n"
          ],
          "name": "stderr"
        },
        {
          "output_type": "execute_result",
          "data": {
            "text/plain": [
              "LogisticRegression(C=1.0, class_weight=None, dual=False, fit_intercept=True,\n",
              "                   intercept_scaling=1, l1_ratio=None, max_iter=100,\n",
              "                   multi_class='auto', n_jobs=None, penalty='l2',\n",
              "                   random_state=None, solver='liblinear', tol=0.0001, verbose=0,\n",
              "                   warm_start=False)"
            ]
          },
          "metadata": {
            "tags": []
          },
          "execution_count": 95
        }
      ]
    },
    {
      "cell_type": "code",
      "metadata": {
        "id": "1wSbTRBmBKVn",
        "colab_type": "code",
        "colab": {}
      },
      "source": [
        "sm_y_pred = logreg.predict(sm_x_test)"
      ],
      "execution_count": 0,
      "outputs": []
    },
    {
      "cell_type": "code",
      "metadata": {
        "id": "konhu_XoLfRc",
        "colab_type": "code",
        "outputId": "8226a7cd-0267-47de-ac81-8e06b6e8e8e7",
        "colab": {
          "base_uri": "https://localhost:8080/",
          "height": 35
        }
      },
      "source": [
        "print('Accuracy of logistic regression classifier on test set: {:.2f}'.format(logreg.score(sm_x_test, y_test_orig)))"
      ],
      "execution_count": 0,
      "outputs": [
        {
          "output_type": "stream",
          "text": [
            "Accuracy of logistic regression classifier on test set: 0.37\n"
          ],
          "name": "stdout"
        }
      ]
    },
    {
      "cell_type": "markdown",
      "metadata": {
        "id": "cUaqMP3pcZEC",
        "colab_type": "text"
      },
      "source": [
        "Confusion Matrix"
      ]
    },
    {
      "cell_type": "code",
      "metadata": {
        "id": "CBppegvGXKA-",
        "colab_type": "code",
        "outputId": "91d3c127-6c50-4781-c4f6-1e5c8787aa04",
        "colab": {
          "base_uri": "https://localhost:8080/",
          "height": 143
        }
      },
      "source": [
        "actu = pd.Series(y_test_orig[\"Purchase\"].tolist(), name = \"Actual\")\n",
        "pred = pd.Series(sm_y_pred.tolist(), name = \"Predicted\")\n",
        "pd.crosstab(actu, pred)"
      ],
      "execution_count": 0,
      "outputs": [
        {
          "output_type": "execute_result",
          "data": {
            "text/html": [
              "<div>\n",
              "<style scoped>\n",
              "    .dataframe tbody tr th:only-of-type {\n",
              "        vertical-align: middle;\n",
              "    }\n",
              "\n",
              "    .dataframe tbody tr th {\n",
              "        vertical-align: top;\n",
              "    }\n",
              "\n",
              "    .dataframe thead th {\n",
              "        text-align: right;\n",
              "    }\n",
              "</style>\n",
              "<table border=\"1\" class=\"dataframe\">\n",
              "  <thead>\n",
              "    <tr style=\"text-align: right;\">\n",
              "      <th>Predicted</th>\n",
              "      <th>0</th>\n",
              "      <th>1</th>\n",
              "    </tr>\n",
              "    <tr>\n",
              "      <th>Actual</th>\n",
              "      <th></th>\n",
              "      <th></th>\n",
              "    </tr>\n",
              "  </thead>\n",
              "  <tbody>\n",
              "    <tr>\n",
              "      <th>0</th>\n",
              "      <td>446</td>\n",
              "      <td>1859</td>\n",
              "    </tr>\n",
              "    <tr>\n",
              "      <th>1</th>\n",
              "      <td>135</td>\n",
              "      <td>704</td>\n",
              "    </tr>\n",
              "  </tbody>\n",
              "</table>\n",
              "</div>"
            ],
            "text/plain": [
              "Predicted    0     1\n",
              "Actual              \n",
              "0          446  1859\n",
              "1          135   704"
            ]
          },
          "metadata": {
            "tags": []
          },
          "execution_count": 98
        }
      ]
    },
    {
      "cell_type": "code",
      "metadata": {
        "id": "GFykV6rJfX56",
        "colab_type": "code",
        "outputId": "db5bb9c9-1551-47a8-a038-6b91ba147963",
        "colab": {
          "base_uri": "https://localhost:8080/",
          "height": 182
        }
      },
      "source": [
        "from sklearn.metrics import classification_report\n",
        "print(classification_report(y_test_orig, sm_y_pred))"
      ],
      "execution_count": 0,
      "outputs": [
        {
          "output_type": "stream",
          "text": [
            "              precision    recall  f1-score   support\n",
            "\n",
            "           0       0.77      0.19      0.31      2305\n",
            "           1       0.27      0.84      0.41       839\n",
            "\n",
            "    accuracy                           0.37      3144\n",
            "   macro avg       0.52      0.52      0.36      3144\n",
            "weighted avg       0.64      0.37      0.34      3144\n",
            "\n"
          ],
          "name": "stdout"
        }
      ]
    },
    {
      "cell_type": "code",
      "metadata": {
        "id": "smIRhoCefcZR",
        "colab_type": "code",
        "outputId": "a807848c-2631-490d-8cac-1c744e610152",
        "colab": {
          "base_uri": "https://localhost:8080/",
          "height": 301
        }
      },
      "source": [
        "from sklearn.metrics import roc_auc_score\n",
        "from sklearn.metrics import roc_curve\n",
        "logit_roc_auc = roc_auc_score(y_test_orig, logreg.predict(sm_x_test))\n",
        "fpr, tpr, thresholds = roc_curve(y_test_orig, logreg.predict_proba(sm_x_test)[:,1])\n",
        "plt.figure()\n",
        "plt.plot(fpr, tpr, label='Logistic Regression (area = %0.2f)' % logit_roc_auc)\n",
        "plt.plot([0, 1], [0, 1],'r--')\n",
        "plt.xlim([0.0, 1.0])\n",
        "plt.ylim([0.0, 1.05])\n",
        "plt.xlabel('False Positive Rate')\n",
        "plt.ylabel('True Positive Rate')\n",
        "plt.title('Receiver operating characteristic')\n",
        "plt.legend(loc=\"lower right\")\n",
        "plt.savefig('Log_ROC')\n",
        "plt.show()"
      ],
      "execution_count": 0,
      "outputs": [
        {
          "output_type": "display_data",
          "data": {
            "image/png": "[encoded data removed]",
            "text/plain": [
              "<Figure size 432x288 with 1 Axes>"
            ]
          },
          "metadata": {
            "tags": []
          }
        }
      ]
    }
  ]
}